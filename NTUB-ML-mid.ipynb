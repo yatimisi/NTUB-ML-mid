{
 "cells": [
  {
   "cell_type": "code",
   "execution_count": 1,
   "metadata": {},
   "outputs": [],
   "source": [
    "import os\n",
    "import numpy as np\n",
    "import pandas as pd\n",
    "import tensorflow as tf\n",
    "import matplotlib.pyplot as plt\n",
    "\n",
    "from tensorflow import keras\n",
    "from tensorflow.keras import layers"
   ]
  },
  {
   "cell_type": "markdown",
   "metadata": {},
   "source": [
    "# Data Structure"
   ]
  },
  {
   "cell_type": "code",
   "execution_count": 2,
   "metadata": {},
   "outputs": [
    {
     "name": "stdout",
     "output_type": "stream",
     "text": [
      "data/big-five-personality-test/6.csv\n",
      "data/big-five-personality-test/5.csv\n",
      "data/big-five-personality-test/4.csv\n",
      "data/big-five-personality-test/1.csv\n",
      "data/big-five-personality-test/3.csv\n",
      "data/big-five-personality-test/2.csv\n"
     ]
    }
   ],
   "source": [
    "data_dir = 'data'\n",
    "\n",
    "if os.path.isdir(data_dir):\n",
    "    for dirname, _, filenames in os.walk(data_dir):\n",
    "        for filename in filenames:\n",
    "            print(os.path.join(dirname, filename))\n",
    "else:\n",
    "    print('Please checkout to include-data branch.')"
   ]
  },
  {
   "cell_type": "markdown",
   "metadata": {},
   "source": [
    "# Handle Big Five Personality Data"
   ]
  },
  {
   "cell_type": "code",
   "execution_count": 3,
   "metadata": {},
   "outputs": [
    {
     "name": "stdout",
     "output_type": "stream",
     "text": [
      "Reading: data/big-five-personality-test/6.csv, Total: 15342\n",
      "Total: 15342\n"
     ]
    },
    {
     "data": {
      "text/html": [
       "<div>\n",
       "<style scoped>\n",
       "    .dataframe tbody tr th:only-of-type {\n",
       "        vertical-align: middle;\n",
       "    }\n",
       "\n",
       "    .dataframe tbody tr th {\n",
       "        vertical-align: top;\n",
       "    }\n",
       "\n",
       "    .dataframe thead th {\n",
       "        text-align: right;\n",
       "    }\n",
       "</style>\n",
       "<table border=\"1\" class=\"dataframe\">\n",
       "  <thead>\n",
       "    <tr style=\"text-align: right;\">\n",
       "      <th></th>\n",
       "      <th>EXT1</th>\n",
       "      <th>EXT2</th>\n",
       "      <th>EXT3</th>\n",
       "      <th>EXT4</th>\n",
       "      <th>EXT5</th>\n",
       "      <th>EXT6</th>\n",
       "      <th>EXT7</th>\n",
       "      <th>EXT8</th>\n",
       "      <th>EXT9</th>\n",
       "      <th>EXT10</th>\n",
       "      <th>...</th>\n",
       "      <th>dateload</th>\n",
       "      <th>screenw</th>\n",
       "      <th>screenh</th>\n",
       "      <th>introelapse</th>\n",
       "      <th>testelapse</th>\n",
       "      <th>endelapse</th>\n",
       "      <th>IPC</th>\n",
       "      <th>country</th>\n",
       "      <th>lat_appx_lots_of_err</th>\n",
       "      <th>long_appx_lots_of_err</th>\n",
       "    </tr>\n",
       "  </thead>\n",
       "  <tbody>\n",
       "    <tr>\n",
       "      <th>0</th>\n",
       "      <td>2</td>\n",
       "      <td>1</td>\n",
       "      <td>1</td>\n",
       "      <td>4</td>\n",
       "      <td>3</td>\n",
       "      <td>1</td>\n",
       "      <td>4</td>\n",
       "      <td>5</td>\n",
       "      <td>1</td>\n",
       "      <td>5</td>\n",
       "      <td>...</td>\n",
       "      <td>2018-11-01 10:13:54</td>\n",
       "      <td>414</td>\n",
       "      <td>736</td>\n",
       "      <td>8</td>\n",
       "      <td>253</td>\n",
       "      <td>10</td>\n",
       "      <td>1</td>\n",
       "      <td>US</td>\n",
       "      <td>38.0</td>\n",
       "      <td>-97.0</td>\n",
       "    </tr>\n",
       "    <tr>\n",
       "      <th>1</th>\n",
       "      <td>3</td>\n",
       "      <td>3</td>\n",
       "      <td>4</td>\n",
       "      <td>3</td>\n",
       "      <td>3</td>\n",
       "      <td>4</td>\n",
       "      <td>1</td>\n",
       "      <td>2</td>\n",
       "      <td>2</td>\n",
       "      <td>5</td>\n",
       "      <td>...</td>\n",
       "      <td>2018-11-01 10:13:56</td>\n",
       "      <td>414</td>\n",
       "      <td>896</td>\n",
       "      <td>3</td>\n",
       "      <td>229</td>\n",
       "      <td>2</td>\n",
       "      <td>53</td>\n",
       "      <td>US</td>\n",
       "      <td>32.7776</td>\n",
       "      <td>-83.6802</td>\n",
       "    </tr>\n",
       "    <tr>\n",
       "      <th>2</th>\n",
       "      <td>3</td>\n",
       "      <td>2</td>\n",
       "      <td>3</td>\n",
       "      <td>3</td>\n",
       "      <td>4</td>\n",
       "      <td>2</td>\n",
       "      <td>2</td>\n",
       "      <td>4</td>\n",
       "      <td>3</td>\n",
       "      <td>3</td>\n",
       "      <td>...</td>\n",
       "      <td>2018-11-01 10:14:00</td>\n",
       "      <td>375</td>\n",
       "      <td>812</td>\n",
       "      <td>7</td>\n",
       "      <td>233</td>\n",
       "      <td>8</td>\n",
       "      <td>1</td>\n",
       "      <td>US</td>\n",
       "      <td>38.0</td>\n",
       "      <td>-97.0</td>\n",
       "    </tr>\n",
       "    <tr>\n",
       "      <th>3</th>\n",
       "      <td>3</td>\n",
       "      <td>3</td>\n",
       "      <td>3</td>\n",
       "      <td>2</td>\n",
       "      <td>3</td>\n",
       "      <td>3</td>\n",
       "      <td>3</td>\n",
       "      <td>4</td>\n",
       "      <td>1</td>\n",
       "      <td>3</td>\n",
       "      <td>...</td>\n",
       "      <td>2018-11-01 10:14:03</td>\n",
       "      <td>375</td>\n",
       "      <td>667</td>\n",
       "      <td>3</td>\n",
       "      <td>249</td>\n",
       "      <td>15</td>\n",
       "      <td>53</td>\n",
       "      <td>US</td>\n",
       "      <td>32.7776</td>\n",
       "      <td>-83.6802</td>\n",
       "    </tr>\n",
       "    <tr>\n",
       "      <th>4</th>\n",
       "      <td>2</td>\n",
       "      <td>2</td>\n",
       "      <td>3</td>\n",
       "      <td>3</td>\n",
       "      <td>3</td>\n",
       "      <td>2</td>\n",
       "      <td>2</td>\n",
       "      <td>4</td>\n",
       "      <td>3</td>\n",
       "      <td>4</td>\n",
       "      <td>...</td>\n",
       "      <td>2018-11-01 10:14:04</td>\n",
       "      <td>414</td>\n",
       "      <td>736</td>\n",
       "      <td>4</td>\n",
       "      <td>247</td>\n",
       "      <td>14</td>\n",
       "      <td>1</td>\n",
       "      <td>US</td>\n",
       "      <td>38.0</td>\n",
       "      <td>-97.0</td>\n",
       "    </tr>\n",
       "  </tbody>\n",
       "</table>\n",
       "<p>5 rows × 110 columns</p>\n",
       "</div>"
      ],
      "text/plain": [
       "   EXT1  EXT2  EXT3  EXT4  EXT5  EXT6  EXT7  EXT8  EXT9  EXT10  ...  \\\n",
       "0     2     1     1     4     3     1     4     5     1      5  ...   \n",
       "1     3     3     4     3     3     4     1     2     2      5  ...   \n",
       "2     3     2     3     3     4     2     2     4     3      3  ...   \n",
       "3     3     3     3     2     3     3     3     4     1      3  ...   \n",
       "4     2     2     3     3     3     2     2     4     3      4  ...   \n",
       "\n",
       "              dateload  screenw  screenh  introelapse  testelapse  endelapse  \\\n",
       "0  2018-11-01 10:13:54      414      736            8         253         10   \n",
       "1  2018-11-01 10:13:56      414      896            3         229          2   \n",
       "2  2018-11-01 10:14:00      375      812            7         233          8   \n",
       "3  2018-11-01 10:14:03      375      667            3         249         15   \n",
       "4  2018-11-01 10:14:04      414      736            4         247         14   \n",
       "\n",
       "   IPC  country  lat_appx_lots_of_err  long_appx_lots_of_err  \n",
       "0    1       US                  38.0                  -97.0  \n",
       "1   53       US               32.7776               -83.6802  \n",
       "2    1       US                  38.0                  -97.0  \n",
       "3   53       US               32.7776               -83.6802  \n",
       "4    1       US                  38.0                  -97.0  \n",
       "\n",
       "[5 rows x 110 columns]"
      ]
     },
     "execution_count": 3,
     "metadata": {},
     "output_type": "execute_result"
    }
   ],
   "source": [
    "data_final_dir = 'data/big-five-personality-test'\n",
    "\n",
    "csv_reading = list()\n",
    "is_reduce = True\n",
    "\n",
    "if os.path.isdir(data_final_dir):\n",
    "    for dirname, _, filenames in os.walk(data_final_dir):\n",
    "        for filename in filenames:\n",
    "            if(not is_reduce or filename == '6.csv'):\n",
    "                csv_reading.append(pd.read_csv(os.path.join(dirname, filename), sep='\\t'))\n",
    "                print(f'Reading: {os.path.join(dirname, filename)}, Total: {len(csv_reading[-1])}')\n",
    "else:\n",
    "    print('Please checkout to include-data branch.')\n",
    "\n",
    "data = pd.concat(csv_reading)  \n",
    "\n",
    "print(f'Total: {len(data)}')\n",
    "data.head()"
   ]
  },
  {
   "cell_type": "markdown",
   "metadata": {},
   "source": [
    "# Reverse value"
   ]
  },
  {
   "cell_type": "code",
   "execution_count": 4,
   "metadata": {},
   "outputs": [],
   "source": [
    "positively_keyed = ['EXT1', 'EXT3', 'EXT5', 'EXT7', 'EXT9',\n",
    "                    'EST1', 'EST3', 'EST5', 'EST6', 'EST7', 'EST8', 'EST9', 'EST10',\n",
    "                    'AGR2', 'AGR4', 'AGR6', 'AGR8', 'AGR9', 'AGR10',\n",
    "                    'CSN1', 'CSN3', 'CSN5', 'CSN7', 'CSN9', 'CSN10', \n",
    "                    'OPN1', 'OPN3', 'OPN5', 'OPN7', 'OPN8', 'OPN9', 'OPN10']\n",
    "\n",
    "negatively_keyed = ['EXT2', 'EXT4', 'EXT6', 'EXT8', 'EXT10',\n",
    "                    'EST2', 'EST4',\n",
    "                    'AGR1', 'AGR3', 'AGR5', 'AGR7', \n",
    "                    'CSN2', 'CSN4', 'CSN6', 'CSN8', \n",
    "                    'OPN2', 'OPN4', 'OPN6']"
   ]
  },
  {
   "cell_type": "code",
   "execution_count": 5,
   "metadata": {},
   "outputs": [],
   "source": [
    "data.loc[:, negatively_keyed] = 6 - data.loc[:, negatively_keyed]"
   ]
  },
  {
   "cell_type": "markdown",
   "metadata": {},
   "source": [
    "# Factor aggregation"
   ]
  },
  {
   "cell_type": "code",
   "execution_count": 6,
   "metadata": {},
   "outputs": [],
   "source": [
    "EXT = ['EXT' + str(i) for i in range(1,11)]\n",
    "EST = ['EST' + str(i) for i in range(1,11)]\n",
    "AGR = ['AGR' + str(i) for i in range(1,11)]\n",
    "CSN = ['CSN' + str(i) for i in range(1,11)]\n",
    "OPN = ['OPN' + str(i) for i in range(1,11)]"
   ]
  },
  {
   "cell_type": "code",
   "execution_count": 7,
   "metadata": {},
   "outputs": [],
   "source": [
    "data['OPN'] = data.loc[:, OPN].mean(axis=1)"
   ]
  },
  {
   "cell_type": "code",
   "execution_count": 8,
   "metadata": {},
   "outputs": [],
   "source": [
    "filter_columns = [] + EXT + EST + AGR + CSN + ['OPN', ]\n",
    "data = data.loc[:, filter_columns]"
   ]
  },
  {
   "cell_type": "code",
   "execution_count": 9,
   "metadata": {},
   "outputs": [
    {
     "name": "stdout",
     "output_type": "stream",
     "text": [
      "Total: 15342\n"
     ]
    },
    {
     "data": {
      "text/html": [
       "<div>\n",
       "<style scoped>\n",
       "    .dataframe tbody tr th:only-of-type {\n",
       "        vertical-align: middle;\n",
       "    }\n",
       "\n",
       "    .dataframe tbody tr th {\n",
       "        vertical-align: top;\n",
       "    }\n",
       "\n",
       "    .dataframe thead th {\n",
       "        text-align: right;\n",
       "    }\n",
       "</style>\n",
       "<table border=\"1\" class=\"dataframe\">\n",
       "  <thead>\n",
       "    <tr style=\"text-align: right;\">\n",
       "      <th></th>\n",
       "      <th>EXT1</th>\n",
       "      <th>EXT2</th>\n",
       "      <th>EXT3</th>\n",
       "      <th>EXT4</th>\n",
       "      <th>EXT5</th>\n",
       "      <th>EXT6</th>\n",
       "      <th>EXT7</th>\n",
       "      <th>EXT8</th>\n",
       "      <th>EXT9</th>\n",
       "      <th>EXT10</th>\n",
       "      <th>...</th>\n",
       "      <th>CSN2</th>\n",
       "      <th>CSN3</th>\n",
       "      <th>CSN4</th>\n",
       "      <th>CSN5</th>\n",
       "      <th>CSN6</th>\n",
       "      <th>CSN7</th>\n",
       "      <th>CSN8</th>\n",
       "      <th>CSN9</th>\n",
       "      <th>CSN10</th>\n",
       "      <th>OPN</th>\n",
       "    </tr>\n",
       "  </thead>\n",
       "  <tbody>\n",
       "    <tr>\n",
       "      <th>0</th>\n",
       "      <td>2</td>\n",
       "      <td>5</td>\n",
       "      <td>1</td>\n",
       "      <td>2</td>\n",
       "      <td>3</td>\n",
       "      <td>5</td>\n",
       "      <td>4</td>\n",
       "      <td>1</td>\n",
       "      <td>1</td>\n",
       "      <td>1</td>\n",
       "      <td>...</td>\n",
       "      <td>5</td>\n",
       "      <td>5</td>\n",
       "      <td>5</td>\n",
       "      <td>3</td>\n",
       "      <td>5</td>\n",
       "      <td>4</td>\n",
       "      <td>4</td>\n",
       "      <td>4</td>\n",
       "      <td>4</td>\n",
       "      <td>3.3</td>\n",
       "    </tr>\n",
       "    <tr>\n",
       "      <th>1</th>\n",
       "      <td>3</td>\n",
       "      <td>3</td>\n",
       "      <td>4</td>\n",
       "      <td>3</td>\n",
       "      <td>3</td>\n",
       "      <td>2</td>\n",
       "      <td>1</td>\n",
       "      <td>4</td>\n",
       "      <td>2</td>\n",
       "      <td>1</td>\n",
       "      <td>...</td>\n",
       "      <td>5</td>\n",
       "      <td>5</td>\n",
       "      <td>4</td>\n",
       "      <td>4</td>\n",
       "      <td>5</td>\n",
       "      <td>5</td>\n",
       "      <td>2</td>\n",
       "      <td>5</td>\n",
       "      <td>5</td>\n",
       "      <td>3.7</td>\n",
       "    </tr>\n",
       "    <tr>\n",
       "      <th>2</th>\n",
       "      <td>3</td>\n",
       "      <td>4</td>\n",
       "      <td>3</td>\n",
       "      <td>3</td>\n",
       "      <td>4</td>\n",
       "      <td>4</td>\n",
       "      <td>2</td>\n",
       "      <td>2</td>\n",
       "      <td>3</td>\n",
       "      <td>3</td>\n",
       "      <td>...</td>\n",
       "      <td>2</td>\n",
       "      <td>4</td>\n",
       "      <td>2</td>\n",
       "      <td>3</td>\n",
       "      <td>2</td>\n",
       "      <td>4</td>\n",
       "      <td>2</td>\n",
       "      <td>4</td>\n",
       "      <td>3</td>\n",
       "      <td>3.8</td>\n",
       "    </tr>\n",
       "    <tr>\n",
       "      <th>3</th>\n",
       "      <td>3</td>\n",
       "      <td>3</td>\n",
       "      <td>3</td>\n",
       "      <td>4</td>\n",
       "      <td>3</td>\n",
       "      <td>3</td>\n",
       "      <td>3</td>\n",
       "      <td>2</td>\n",
       "      <td>1</td>\n",
       "      <td>3</td>\n",
       "      <td>...</td>\n",
       "      <td>5</td>\n",
       "      <td>5</td>\n",
       "      <td>5</td>\n",
       "      <td>3</td>\n",
       "      <td>5</td>\n",
       "      <td>3</td>\n",
       "      <td>5</td>\n",
       "      <td>3</td>\n",
       "      <td>4</td>\n",
       "      <td>3.6</td>\n",
       "    </tr>\n",
       "    <tr>\n",
       "      <th>4</th>\n",
       "      <td>2</td>\n",
       "      <td>4</td>\n",
       "      <td>3</td>\n",
       "      <td>3</td>\n",
       "      <td>3</td>\n",
       "      <td>4</td>\n",
       "      <td>2</td>\n",
       "      <td>2</td>\n",
       "      <td>3</td>\n",
       "      <td>2</td>\n",
       "      <td>...</td>\n",
       "      <td>3</td>\n",
       "      <td>5</td>\n",
       "      <td>4</td>\n",
       "      <td>2</td>\n",
       "      <td>4</td>\n",
       "      <td>4</td>\n",
       "      <td>4</td>\n",
       "      <td>4</td>\n",
       "      <td>4</td>\n",
       "      <td>3.9</td>\n",
       "    </tr>\n",
       "  </tbody>\n",
       "</table>\n",
       "<p>5 rows × 41 columns</p>\n",
       "</div>"
      ],
      "text/plain": [
       "   EXT1  EXT2  EXT3  EXT4  EXT5  EXT6  EXT7  EXT8  EXT9  EXT10  ...  CSN2  \\\n",
       "0     2     5     1     2     3     5     4     1     1      1  ...     5   \n",
       "1     3     3     4     3     3     2     1     4     2      1  ...     5   \n",
       "2     3     4     3     3     4     4     2     2     3      3  ...     2   \n",
       "3     3     3     3     4     3     3     3     2     1      3  ...     5   \n",
       "4     2     4     3     3     3     4     2     2     3      2  ...     3   \n",
       "\n",
       "   CSN3  CSN4  CSN5  CSN6  CSN7  CSN8  CSN9  CSN10  OPN  \n",
       "0     5     5     3     5     4     4     4      4  3.3  \n",
       "1     5     4     4     5     5     2     5      5  3.7  \n",
       "2     4     2     3     2     4     2     4      3  3.8  \n",
       "3     5     5     3     5     3     5     3      4  3.6  \n",
       "4     5     4     2     4     4     4     4      4  3.9  \n",
       "\n",
       "[5 rows x 41 columns]"
      ]
     },
     "execution_count": 9,
     "metadata": {},
     "output_type": "execute_result"
    }
   ],
   "source": [
    "print(f'Total: {len(data)}')\n",
    "data.head()"
   ]
  },
  {
   "cell_type": "code",
   "execution_count": 10,
   "metadata": {},
   "outputs": [
    {
     "data": {
      "text/plain": [
       "EXT1       int64\n",
       "EXT2       int64\n",
       "EXT3       int64\n",
       "EXT4       int64\n",
       "EXT5       int64\n",
       "EXT6       int64\n",
       "EXT7       int64\n",
       "EXT8       int64\n",
       "EXT9       int64\n",
       "EXT10      int64\n",
       "EST1       int64\n",
       "EST2       int64\n",
       "EST3       int64\n",
       "EST4       int64\n",
       "EST5       int64\n",
       "EST6       int64\n",
       "EST7       int64\n",
       "EST8       int64\n",
       "EST9       int64\n",
       "EST10      int64\n",
       "AGR1       int64\n",
       "AGR2       int64\n",
       "AGR3       int64\n",
       "AGR4       int64\n",
       "AGR5       int64\n",
       "AGR6       int64\n",
       "AGR7       int64\n",
       "AGR8       int64\n",
       "AGR9       int64\n",
       "AGR10      int64\n",
       "CSN1       int64\n",
       "CSN2       int64\n",
       "CSN3       int64\n",
       "CSN4       int64\n",
       "CSN5       int64\n",
       "CSN6       int64\n",
       "CSN7       int64\n",
       "CSN8       int64\n",
       "CSN9       int64\n",
       "CSN10      int64\n",
       "OPN      float64\n",
       "dtype: object"
      ]
     },
     "execution_count": 10,
     "metadata": {},
     "output_type": "execute_result"
    }
   ],
   "source": [
    "data.dtypes"
   ]
  },
  {
   "cell_type": "markdown",
   "metadata": {},
   "source": [
    "# Random Data"
   ]
  },
  {
   "cell_type": "code",
   "execution_count": 11,
   "metadata": {},
   "outputs": [],
   "source": [
    "data_num = data.shape[0]\n",
    "indexes = np.random.permutation(data_num)"
   ]
  },
  {
   "cell_type": "code",
   "execution_count": 12,
   "metadata": {},
   "outputs": [
    {
     "name": "stdout",
     "output_type": "stream",
     "text": [
      "train_data: 9205\n",
      "val_data: 3068\n",
      "test_data: 3069\n"
     ]
    }
   ],
   "source": [
    "proportion = [0.98, 0.01, 0.01] if data_num > 1000000 else [0.6, 0.2, 0.2]\n",
    "\n",
    "train_indexes = indexes[:int(data_num *proportion[0])]\n",
    "val_indexes = indexes[int(data_num * proportion[0]):int(data_num * (proportion[0] + proportion[1]))]\n",
    "test_indexes = indexes[int(data_num * (proportion[0] + proportion[1])):]\n",
    "\n",
    "train_data = data.loc[train_indexes] if is_reduce else data[:int(data_num *proportion[0])]\n",
    "val_data = data.loc[val_indexes] if is_reduce else data[int(data_num * proportion[0]):int(data_num * (proportion[0] + proportion[1]))]\n",
    "test_data = data.loc[test_indexes] if is_reduce else data[int(data_num * (proportion[0] + proportion[1])):]\n",
    "\n",
    "print(f'''train_data: {len(train_data)}\n",
    "val_data: {len(val_data)}\n",
    "test_data: {len(test_data)}''')"
   ]
  },
  {
   "cell_type": "markdown",
   "metadata": {},
   "source": [
    "# Normalization"
   ]
  },
  {
   "cell_type": "code",
   "execution_count": 13,
   "metadata": {},
   "outputs": [],
   "source": [
    "train_validation_data = pd.concat([train_data, val_data])\n",
    "mean = train_validation_data.mean()\n",
    "std = train_validation_data.std()"
   ]
  },
  {
   "cell_type": "code",
   "execution_count": 14,
   "metadata": {},
   "outputs": [],
   "source": [
    "train_data = (train_data - mean) / std\n",
    "val_data = (val_data - mean) / std"
   ]
  },
  {
   "cell_type": "markdown",
   "metadata": {},
   "source": [
    "# Establish training data in Numpy array format"
   ]
  },
  {
   "cell_type": "code",
   "execution_count": 15,
   "metadata": {},
   "outputs": [],
   "source": [
    "x_train = np.array(train_data.drop('OPN', axis='columns'))\n",
    "y_train = np.array(train_data['OPN'])\n",
    "x_val = np.array(val_data.drop('OPN', axis='columns'))\n",
    "y_val = np.array(val_data['OPN'])"
   ]
  },
  {
   "cell_type": "code",
   "execution_count": 16,
   "metadata": {},
   "outputs": [],
   "source": [
    "model_dir = os.path.join('logs', 'models')\n",
    "\n",
    "if not os.path.exists(model_dir):\n",
    "    os.makedirs(model_dir)"
   ]
  },
  {
   "cell_type": "markdown",
   "metadata": {},
   "source": [
    "# Create Model"
   ]
  },
  {
   "cell_type": "markdown",
   "metadata": {},
   "source": [
    "## Initialising the ANN"
   ]
  },
  {
   "cell_type": "code",
   "execution_count": 17,
   "metadata": {},
   "outputs": [],
   "source": [
    "model = keras.Sequential(name='model')"
   ]
  },
  {
   "cell_type": "markdown",
   "metadata": {},
   "source": [
    "## Adding the input layer and the first hidden layer"
   ]
  },
  {
   "cell_type": "code",
   "execution_count": 18,
   "metadata": {},
   "outputs": [],
   "source": [
    "model.add(layers.Dense(64, kernel_initializer='uniform', activation='relu', input_shape=((len(filter_columns) - 1),)))\n",
    "model.add(layers.Dropout(0.3))\n",
    "model.add(layers.Dense(64, kernel_initializer='uniform', activation='relu'))\n",
    "model.add(layers.Dropout(0.3))\n",
    "model.add(layers.Dense(1))"
   ]
  },
  {
   "cell_type": "markdown",
   "metadata": {},
   "source": [
    "## Compiling the ANN"
   ]
  },
  {
   "cell_type": "code",
   "execution_count": 19,
   "metadata": {},
   "outputs": [],
   "source": [
    "model.compile(keras.optimizers.Adam(0.001),\n",
    "              loss=keras.losses.MeanSquaredError(),\n",
    "              metrics=[keras.metrics.MeanAbsoluteError()])"
   ]
  },
  {
   "cell_type": "markdown",
   "metadata": {},
   "source": [
    "## Set callback function"
   ]
  },
  {
   "cell_type": "code",
   "execution_count": 20,
   "metadata": {},
   "outputs": [],
   "source": [
    "log_dir = os.path.join('logs', 'model')\n",
    "model_cbk = keras.callbacks.TensorBoard(log_dir=log_dir)\n",
    "model_mckp = keras.callbacks.ModelCheckpoint(os.path.join(model_dir, 'Best-model.h5'), \n",
    "                                             monitor='val_mean_absolute_error', \n",
    "                                             save_best_only=True, \n",
    "                                             mode='min')"
   ]
  },
  {
   "cell_type": "code",
   "execution_count": 21,
   "metadata": {},
   "outputs": [
    {
     "name": "stdout",
     "output_type": "stream",
     "text": [
      "Train on 9205 samples, validate on 3068 samples\n",
      "Epoch 1/100\n",
      "9205/9205 [==============================] - 1s 89us/sample - loss: 0.8698 - mean_absolute_error: 0.7478 - val_loss: 0.7347 - val_mean_absolute_error: 0.6882\n",
      "Epoch 2/100\n",
      "9205/9205 [==============================] - 0s 14us/sample - loss: 0.7564 - mean_absolute_error: 0.6913 - val_loss: 0.7250 - val_mean_absolute_error: 0.6832\n",
      "Epoch 3/100\n",
      "9205/9205 [==============================] - 0s 14us/sample - loss: 0.7388 - mean_absolute_error: 0.6816 - val_loss: 0.7149 - val_mean_absolute_error: 0.6808\n",
      "Epoch 4/100\n",
      "9205/9205 [==============================] - 0s 13us/sample - loss: 0.7288 - mean_absolute_error: 0.6787 - val_loss: 0.7121 - val_mean_absolute_error: 0.6778\n",
      "Epoch 5/100\n",
      "9205/9205 [==============================] - 0s 14us/sample - loss: 0.7244 - mean_absolute_error: 0.6752 - val_loss: 0.7061 - val_mean_absolute_error: 0.6706\n",
      "Epoch 6/100\n",
      "9205/9205 [==============================] - 0s 13us/sample - loss: 0.7167 - mean_absolute_error: 0.6725 - val_loss: 0.7146 - val_mean_absolute_error: 0.6746\n",
      "Epoch 7/100\n",
      "9205/9205 [==============================] - 0s 14us/sample - loss: 0.7077 - mean_absolute_error: 0.6686 - val_loss: 0.7043 - val_mean_absolute_error: 0.6687\n",
      "Epoch 8/100\n",
      "9205/9205 [==============================] - 0s 12us/sample - loss: 0.7031 - mean_absolute_error: 0.6656 - val_loss: 0.7054 - val_mean_absolute_error: 0.6694\n",
      "Epoch 9/100\n",
      "9205/9205 [==============================] - 0s 12us/sample - loss: 0.7040 - mean_absolute_error: 0.6659 - val_loss: 0.7058 - val_mean_absolute_error: 0.6710\n",
      "Epoch 10/100\n",
      "9205/9205 [==============================] - 0s 12us/sample - loss: 0.6973 - mean_absolute_error: 0.6630 - val_loss: 0.7026 - val_mean_absolute_error: 0.6709\n",
      "Epoch 11/100\n",
      "9205/9205 [==============================] - 0s 12us/sample - loss: 0.6960 - mean_absolute_error: 0.6601 - val_loss: 0.7063 - val_mean_absolute_error: 0.6704\n",
      "Epoch 12/100\n",
      "9205/9205 [==============================] - 0s 12us/sample - loss: 0.6933 - mean_absolute_error: 0.6590 - val_loss: 0.7021 - val_mean_absolute_error: 0.6705\n",
      "Epoch 13/100\n",
      "9205/9205 [==============================] - 0s 13us/sample - loss: 0.6859 - mean_absolute_error: 0.6555 - val_loss: 0.7005 - val_mean_absolute_error: 0.6683\n",
      "Epoch 14/100\n",
      "9205/9205 [==============================] - 0s 12us/sample - loss: 0.6795 - mean_absolute_error: 0.6539 - val_loss: 0.7002 - val_mean_absolute_error: 0.6685\n",
      "Epoch 15/100\n",
      "9205/9205 [==============================] - 0s 15us/sample - loss: 0.6791 - mean_absolute_error: 0.6540 - val_loss: 0.7041 - val_mean_absolute_error: 0.6656\n",
      "Epoch 16/100\n",
      "9205/9205 [==============================] - 0s 14us/sample - loss: 0.6789 - mean_absolute_error: 0.6532 - val_loss: 0.7016 - val_mean_absolute_error: 0.6671\n",
      "Epoch 17/100\n",
      "9205/9205 [==============================] - 0s 13us/sample - loss: 0.6736 - mean_absolute_error: 0.6503 - val_loss: 0.7058 - val_mean_absolute_error: 0.6715\n",
      "Epoch 18/100\n",
      "9205/9205 [==============================] - 0s 14us/sample - loss: 0.6705 - mean_absolute_error: 0.6486 - val_loss: 0.7043 - val_mean_absolute_error: 0.6668\n",
      "Epoch 19/100\n",
      "9205/9205 [==============================] - 0s 13us/sample - loss: 0.6681 - mean_absolute_error: 0.6477 - val_loss: 0.7047 - val_mean_absolute_error: 0.6694\n",
      "Epoch 20/100\n",
      "9205/9205 [==============================] - 0s 13us/sample - loss: 0.6645 - mean_absolute_error: 0.6467 - val_loss: 0.7087 - val_mean_absolute_error: 0.6699\n",
      "Epoch 21/100\n",
      "9205/9205 [==============================] - 0s 15us/sample - loss: 0.6685 - mean_absolute_error: 0.6465 - val_loss: 0.7041 - val_mean_absolute_error: 0.6686\n",
      "Epoch 22/100\n",
      "9205/9205 [==============================] - 0s 14us/sample - loss: 0.6564 - mean_absolute_error: 0.6413 - val_loss: 0.7064 - val_mean_absolute_error: 0.6697\n",
      "Epoch 23/100\n",
      "9205/9205 [==============================] - 0s 14us/sample - loss: 0.6616 - mean_absolute_error: 0.6457 - val_loss: 0.7078 - val_mean_absolute_error: 0.6667\n",
      "Epoch 24/100\n",
      "9205/9205 [==============================] - 0s 14us/sample - loss: 0.6573 - mean_absolute_error: 0.6435 - val_loss: 0.7074 - val_mean_absolute_error: 0.6661\n",
      "Epoch 25/100\n",
      "9205/9205 [==============================] - 0s 13us/sample - loss: 0.6575 - mean_absolute_error: 0.6432 - val_loss: 0.7036 - val_mean_absolute_error: 0.6656\n",
      "Epoch 26/100\n",
      "9205/9205 [==============================] - 0s 13us/sample - loss: 0.6488 - mean_absolute_error: 0.6397 - val_loss: 0.7079 - val_mean_absolute_error: 0.6657\n",
      "Epoch 27/100\n",
      "9205/9205 [==============================] - 0s 13us/sample - loss: 0.6492 - mean_absolute_error: 0.6393 - val_loss: 0.7078 - val_mean_absolute_error: 0.6659\n",
      "Epoch 28/100\n",
      "9205/9205 [==============================] - 0s 12us/sample - loss: 0.6508 - mean_absolute_error: 0.6399 - val_loss: 0.7102 - val_mean_absolute_error: 0.6714\n",
      "Epoch 29/100\n",
      "9205/9205 [==============================] - 0s 12us/sample - loss: 0.6459 - mean_absolute_error: 0.6356 - val_loss: 0.7105 - val_mean_absolute_error: 0.6714\n",
      "Epoch 30/100\n",
      "9205/9205 [==============================] - 0s 12us/sample - loss: 0.6458 - mean_absolute_error: 0.6368 - val_loss: 0.7075 - val_mean_absolute_error: 0.6686\n",
      "Epoch 31/100\n",
      "9205/9205 [==============================] - 0s 12us/sample - loss: 0.6414 - mean_absolute_error: 0.6357 - val_loss: 0.7099 - val_mean_absolute_error: 0.6711\n",
      "Epoch 32/100\n",
      "9205/9205 [==============================] - 0s 12us/sample - loss: 0.6449 - mean_absolute_error: 0.6377 - val_loss: 0.7114 - val_mean_absolute_error: 0.6708\n",
      "Epoch 33/100\n",
      "9205/9205 [==============================] - 0s 12us/sample - loss: 0.6390 - mean_absolute_error: 0.6357 - val_loss: 0.7107 - val_mean_absolute_error: 0.6707\n",
      "Epoch 34/100\n",
      "9205/9205 [==============================] - 0s 13us/sample - loss: 0.6382 - mean_absolute_error: 0.6331 - val_loss: 0.7092 - val_mean_absolute_error: 0.6687\n",
      "Epoch 35/100\n",
      "9205/9205 [==============================] - 0s 12us/sample - loss: 0.6338 - mean_absolute_error: 0.6331 - val_loss: 0.7129 - val_mean_absolute_error: 0.6696\n",
      "Epoch 36/100\n",
      "9205/9205 [==============================] - 0s 12us/sample - loss: 0.6304 - mean_absolute_error: 0.6291 - val_loss: 0.7136 - val_mean_absolute_error: 0.6693\n",
      "Epoch 37/100\n",
      "9205/9205 [==============================] - 0s 13us/sample - loss: 0.6277 - mean_absolute_error: 0.6292 - val_loss: 0.7143 - val_mean_absolute_error: 0.6704\n",
      "Epoch 38/100\n",
      "9205/9205 [==============================] - 0s 13us/sample - loss: 0.6305 - mean_absolute_error: 0.6301 - val_loss: 0.7145 - val_mean_absolute_error: 0.6688\n",
      "Epoch 39/100\n",
      "9205/9205 [==============================] - 0s 12us/sample - loss: 0.6284 - mean_absolute_error: 0.6294 - val_loss: 0.7135 - val_mean_absolute_error: 0.6705\n",
      "Epoch 40/100\n",
      "9205/9205 [==============================] - 0s 12us/sample - loss: 0.6248 - mean_absolute_error: 0.6279 - val_loss: 0.7148 - val_mean_absolute_error: 0.6688\n",
      "Epoch 41/100\n",
      "9205/9205 [==============================] - 0s 12us/sample - loss: 0.6204 - mean_absolute_error: 0.6246 - val_loss: 0.7164 - val_mean_absolute_error: 0.6702\n",
      "Epoch 42/100\n",
      "9205/9205 [==============================] - 0s 12us/sample - loss: 0.6255 - mean_absolute_error: 0.6265 - val_loss: 0.7150 - val_mean_absolute_error: 0.6697\n",
      "Epoch 43/100\n",
      "9205/9205 [==============================] - 0s 12us/sample - loss: 0.6190 - mean_absolute_error: 0.6239 - val_loss: 0.7130 - val_mean_absolute_error: 0.6709\n",
      "Epoch 44/100\n",
      "9205/9205 [==============================] - 0s 12us/sample - loss: 0.6094 - mean_absolute_error: 0.6200 - val_loss: 0.7220 - val_mean_absolute_error: 0.6688\n",
      "Epoch 45/100\n",
      "9205/9205 [==============================] - 0s 12us/sample - loss: 0.6189 - mean_absolute_error: 0.6228 - val_loss: 0.7150 - val_mean_absolute_error: 0.6698\n",
      "Epoch 46/100\n",
      "9205/9205 [==============================] - 0s 12us/sample - loss: 0.6254 - mean_absolute_error: 0.6273 - val_loss: 0.7141 - val_mean_absolute_error: 0.6694\n",
      "Epoch 47/100\n",
      "9205/9205 [==============================] - 0s 12us/sample - loss: 0.6206 - mean_absolute_error: 0.6242 - val_loss: 0.7161 - val_mean_absolute_error: 0.6707\n",
      "Epoch 48/100\n",
      "9205/9205 [==============================] - 0s 13us/sample - loss: 0.6253 - mean_absolute_error: 0.6287 - val_loss: 0.7154 - val_mean_absolute_error: 0.6731\n"
     ]
    },
    {
     "name": "stdout",
     "output_type": "stream",
     "text": [
      "Epoch 49/100\n",
      "9205/9205 [==============================] - 0s 12us/sample - loss: 0.6164 - mean_absolute_error: 0.6221 - val_loss: 0.7189 - val_mean_absolute_error: 0.6734\n",
      "Epoch 50/100\n",
      "9205/9205 [==============================] - 0s 13us/sample - loss: 0.6171 - mean_absolute_error: 0.6218 - val_loss: 0.7161 - val_mean_absolute_error: 0.6723\n",
      "Epoch 51/100\n",
      "9205/9205 [==============================] - 0s 12us/sample - loss: 0.6164 - mean_absolute_error: 0.6230 - val_loss: 0.7158 - val_mean_absolute_error: 0.6721\n",
      "Epoch 52/100\n",
      "9205/9205 [==============================] - 0s 12us/sample - loss: 0.6146 - mean_absolute_error: 0.6215 - val_loss: 0.7152 - val_mean_absolute_error: 0.6726\n",
      "Epoch 53/100\n",
      "9205/9205 [==============================] - 0s 13us/sample - loss: 0.6124 - mean_absolute_error: 0.6200 - val_loss: 0.7157 - val_mean_absolute_error: 0.6710\n",
      "Epoch 54/100\n",
      "9205/9205 [==============================] - 0s 12us/sample - loss: 0.6033 - mean_absolute_error: 0.6166 - val_loss: 0.7175 - val_mean_absolute_error: 0.6723\n",
      "Epoch 55/100\n",
      "9205/9205 [==============================] - 0s 14us/sample - loss: 0.6046 - mean_absolute_error: 0.6173 - val_loss: 0.7207 - val_mean_absolute_error: 0.6712\n",
      "Epoch 56/100\n",
      "9205/9205 [==============================] - 0s 11us/sample - loss: 0.6106 - mean_absolute_error: 0.6189 - val_loss: 0.7178 - val_mean_absolute_error: 0.6723\n",
      "Epoch 57/100\n",
      "9205/9205 [==============================] - 0s 12us/sample - loss: 0.6033 - mean_absolute_error: 0.6179 - val_loss: 0.7167 - val_mean_absolute_error: 0.6704\n",
      "Epoch 58/100\n",
      "9205/9205 [==============================] - 0s 12us/sample - loss: 0.6128 - mean_absolute_error: 0.6222 - val_loss: 0.7219 - val_mean_absolute_error: 0.6735\n",
      "Epoch 59/100\n",
      "9205/9205 [==============================] - 0s 12us/sample - loss: 0.6033 - mean_absolute_error: 0.6163 - val_loss: 0.7236 - val_mean_absolute_error: 0.6739\n",
      "Epoch 60/100\n",
      "9205/9205 [==============================] - 0s 12us/sample - loss: 0.6071 - mean_absolute_error: 0.6183 - val_loss: 0.7196 - val_mean_absolute_error: 0.6747\n",
      "Epoch 61/100\n",
      "9205/9205 [==============================] - 0s 12us/sample - loss: 0.6020 - mean_absolute_error: 0.6170 - val_loss: 0.7207 - val_mean_absolute_error: 0.6766\n",
      "Epoch 62/100\n",
      "9205/9205 [==============================] - 0s 13us/sample - loss: 0.6034 - mean_absolute_error: 0.6151 - val_loss: 0.7238 - val_mean_absolute_error: 0.6746\n",
      "Epoch 63/100\n",
      "9205/9205 [==============================] - 0s 12us/sample - loss: 0.5966 - mean_absolute_error: 0.6130 - val_loss: 0.7238 - val_mean_absolute_error: 0.6741\n",
      "Epoch 64/100\n",
      "9205/9205 [==============================] - 0s 11us/sample - loss: 0.6048 - mean_absolute_error: 0.6181 - val_loss: 0.7206 - val_mean_absolute_error: 0.6749\n",
      "Epoch 65/100\n",
      "9205/9205 [==============================] - 0s 12us/sample - loss: 0.5898 - mean_absolute_error: 0.6112 - val_loss: 0.7235 - val_mean_absolute_error: 0.6748\n",
      "Epoch 66/100\n",
      "9205/9205 [==============================] - 0s 12us/sample - loss: 0.6021 - mean_absolute_error: 0.6157 - val_loss: 0.7216 - val_mean_absolute_error: 0.6763\n",
      "Epoch 67/100\n",
      "9205/9205 [==============================] - 0s 12us/sample - loss: 0.5922 - mean_absolute_error: 0.6109 - val_loss: 0.7215 - val_mean_absolute_error: 0.6745\n",
      "Epoch 68/100\n",
      "9205/9205 [==============================] - 0s 12us/sample - loss: 0.5976 - mean_absolute_error: 0.6132 - val_loss: 0.7246 - val_mean_absolute_error: 0.6749\n",
      "Epoch 69/100\n",
      "9205/9205 [==============================] - 0s 12us/sample - loss: 0.6049 - mean_absolute_error: 0.6163 - val_loss: 0.7177 - val_mean_absolute_error: 0.6722\n",
      "Epoch 70/100\n",
      "9205/9205 [==============================] - 0s 12us/sample - loss: 0.5937 - mean_absolute_error: 0.6125 - val_loss: 0.7251 - val_mean_absolute_error: 0.6763\n",
      "Epoch 71/100\n",
      "9205/9205 [==============================] - 0s 12us/sample - loss: 0.5900 - mean_absolute_error: 0.6092 - val_loss: 0.7199 - val_mean_absolute_error: 0.6719\n",
      "Epoch 72/100\n",
      "9205/9205 [==============================] - 0s 12us/sample - loss: 0.5960 - mean_absolute_error: 0.6138 - val_loss: 0.7245 - val_mean_absolute_error: 0.6758\n",
      "Epoch 73/100\n",
      "9205/9205 [==============================] - 0s 12us/sample - loss: 0.5926 - mean_absolute_error: 0.6118 - val_loss: 0.7236 - val_mean_absolute_error: 0.6744\n",
      "Epoch 74/100\n",
      "9205/9205 [==============================] - 0s 12us/sample - loss: 0.5930 - mean_absolute_error: 0.6112 - val_loss: 0.7230 - val_mean_absolute_error: 0.6734\n",
      "Epoch 75/100\n",
      "9205/9205 [==============================] - 0s 11us/sample - loss: 0.5928 - mean_absolute_error: 0.6082 - val_loss: 0.7203 - val_mean_absolute_error: 0.6735\n",
      "Epoch 76/100\n",
      "9205/9205 [==============================] - 0s 12us/sample - loss: 0.5915 - mean_absolute_error: 0.6095 - val_loss: 0.7255 - val_mean_absolute_error: 0.6760\n",
      "Epoch 77/100\n",
      "9205/9205 [==============================] - 0s 12us/sample - loss: 0.5869 - mean_absolute_error: 0.6078 - val_loss: 0.7269 - val_mean_absolute_error: 0.6784\n",
      "Epoch 78/100\n",
      "9205/9205 [==============================] - 0s 12us/sample - loss: 0.5846 - mean_absolute_error: 0.6084 - val_loss: 0.7214 - val_mean_absolute_error: 0.6744\n",
      "Epoch 79/100\n",
      "9205/9205 [==============================] - 0s 12us/sample - loss: 0.5892 - mean_absolute_error: 0.6075 - val_loss: 0.7259 - val_mean_absolute_error: 0.6789\n",
      "Epoch 80/100\n",
      "9205/9205 [==============================] - 0s 12us/sample - loss: 0.5880 - mean_absolute_error: 0.6095 - val_loss: 0.7264 - val_mean_absolute_error: 0.6748\n",
      "Epoch 81/100\n",
      "9205/9205 [==============================] - 0s 12us/sample - loss: 0.5804 - mean_absolute_error: 0.6034 - val_loss: 0.7234 - val_mean_absolute_error: 0.6741\n",
      "Epoch 82/100\n",
      "9205/9205 [==============================] - 0s 11us/sample - loss: 0.5849 - mean_absolute_error: 0.6085 - val_loss: 0.7257 - val_mean_absolute_error: 0.6745\n",
      "Epoch 83/100\n",
      "9205/9205 [==============================] - 0s 12us/sample - loss: 0.5804 - mean_absolute_error: 0.6020 - val_loss: 0.7211 - val_mean_absolute_error: 0.6754\n",
      "Epoch 84/100\n",
      "9205/9205 [==============================] - 0s 11us/sample - loss: 0.5791 - mean_absolute_error: 0.6030 - val_loss: 0.7221 - val_mean_absolute_error: 0.6759\n",
      "Epoch 85/100\n",
      "9205/9205 [==============================] - 0s 11us/sample - loss: 0.5850 - mean_absolute_error: 0.6082 - val_loss: 0.7207 - val_mean_absolute_error: 0.6742\n",
      "Epoch 86/100\n",
      "9205/9205 [==============================] - 0s 12us/sample - loss: 0.5787 - mean_absolute_error: 0.6038 - val_loss: 0.7245 - val_mean_absolute_error: 0.6736\n",
      "Epoch 87/100\n",
      "9205/9205 [==============================] - 0s 12us/sample - loss: 0.5807 - mean_absolute_error: 0.6039 - val_loss: 0.7237 - val_mean_absolute_error: 0.6735\n",
      "Epoch 88/100\n",
      "9205/9205 [==============================] - 0s 12us/sample - loss: 0.5808 - mean_absolute_error: 0.6048 - val_loss: 0.7243 - val_mean_absolute_error: 0.6774\n",
      "Epoch 89/100\n",
      "9205/9205 [==============================] - 0s 12us/sample - loss: 0.5789 - mean_absolute_error: 0.6035 - val_loss: 0.7287 - val_mean_absolute_error: 0.6752\n",
      "Epoch 90/100\n",
      "9205/9205 [==============================] - 0s 11us/sample - loss: 0.5763 - mean_absolute_error: 0.6030 - val_loss: 0.7284 - val_mean_absolute_error: 0.6778\n",
      "Epoch 91/100\n",
      "9205/9205 [==============================] - 0s 11us/sample - loss: 0.5774 - mean_absolute_error: 0.6020 - val_loss: 0.7282 - val_mean_absolute_error: 0.6782\n",
      "Epoch 92/100\n",
      "9205/9205 [==============================] - 0s 11us/sample - loss: 0.5702 - mean_absolute_error: 0.5997 - val_loss: 0.7320 - val_mean_absolute_error: 0.6789\n",
      "Epoch 93/100\n",
      "9205/9205 [==============================] - 0s 12us/sample - loss: 0.5811 - mean_absolute_error: 0.6041 - val_loss: 0.7317 - val_mean_absolute_error: 0.6757\n",
      "Epoch 94/100\n",
      "9205/9205 [==============================] - 0s 11us/sample - loss: 0.5830 - mean_absolute_error: 0.6042 - val_loss: 0.7305 - val_mean_absolute_error: 0.6782\n",
      "Epoch 95/100\n",
      "9205/9205 [==============================] - 0s 12us/sample - loss: 0.5813 - mean_absolute_error: 0.6060 - val_loss: 0.7262 - val_mean_absolute_error: 0.6786\n",
      "Epoch 96/100\n",
      "9205/9205 [==============================] - 0s 12us/sample - loss: 0.5715 - mean_absolute_error: 0.5991 - val_loss: 0.7316 - val_mean_absolute_error: 0.6792\n"
     ]
    },
    {
     "name": "stdout",
     "output_type": "stream",
     "text": [
      "Epoch 97/100\n",
      "9205/9205 [==============================] - 0s 12us/sample - loss: 0.5775 - mean_absolute_error: 0.6030 - val_loss: 0.7307 - val_mean_absolute_error: 0.6777\n",
      "Epoch 98/100\n",
      "9205/9205 [==============================] - 0s 12us/sample - loss: 0.5738 - mean_absolute_error: 0.5989 - val_loss: 0.7274 - val_mean_absolute_error: 0.6775\n",
      "Epoch 99/100\n",
      "9205/9205 [==============================] - 0s 11us/sample - loss: 0.5750 - mean_absolute_error: 0.6035 - val_loss: 0.7296 - val_mean_absolute_error: 0.6777\n",
      "Epoch 100/100\n",
      "9205/9205 [==============================] - 0s 12us/sample - loss: 0.5721 - mean_absolute_error: 0.6007 - val_loss: 0.7270 - val_mean_absolute_error: 0.6761\n"
     ]
    }
   ],
   "source": [
    "history = model.fit(x_train, y_train,\n",
    "               batch_size=150,\n",
    "               epochs=100,\n",
    "               validation_data=(x_val, y_val),\n",
    "               callbacks=[model_cbk, model_mckp])"
   ]
  },
  {
   "cell_type": "markdown",
   "metadata": {},
   "source": [
    "# Verify the effectiveness"
   ]
  },
  {
   "cell_type": "code",
   "execution_count": 22,
   "metadata": {},
   "outputs": [],
   "source": [
    "model = keras.models.load_model(os.path.join(model_dir, 'Best-model.h5'))\n",
    "\n",
    "y_test = np.array(test_data['OPN'])\n",
    "test_data = (test_data - mean) / std\n",
    "\n",
    "x_test = np.array(test_data.drop('OPN', axis='columns'))\n",
    "y_pred = model.predict(x_test)\n",
    "y_pred = np.reshape(y_pred * std['OPN'] + mean['OPN'], y_test.shape)\n",
    "model_percentage_error = np.nanmean(np.abs(y_test - y_pred)) / np.nanmean(y_test) * 100"
   ]
  },
  {
   "cell_type": "markdown",
   "metadata": {},
   "source": [
    "# Results of training"
   ]
  },
  {
   "cell_type": "markdown",
   "metadata": {},
   "source": [
    "## Percentage Error"
   ]
  },
  {
   "cell_type": "code",
   "execution_count": 23,
   "metadata": {},
   "outputs": [
    {
     "name": "stdout",
     "output_type": "stream",
     "text": [
      "Model: 11.47%\n"
     ]
    }
   ],
   "source": [
    "print(\"Model: {:.2f}%\".format(model_percentage_error))"
   ]
  },
  {
   "cell_type": "markdown",
   "metadata": {},
   "source": [
    "## acc - loss curve diagram"
   ]
  },
  {
   "cell_type": "code",
   "execution_count": 24,
   "metadata": {},
   "outputs": [
    {
     "data": {
      "text/plain": [
       "<matplotlib.legend.Legend at 0x14189f390>"
      ]
     },
     "execution_count": 24,
     "metadata": {},
     "output_type": "execute_result"
    },
    {
     "data": {
      "image/png": "[encoded data removed]",
      "text/plain": [
       "<Figure size 432x288 with 1 Axes>"
      ]
     },
     "metadata": {
      "needs_background": "light"
     },
     "output_type": "display_data"
    }
   ],
   "source": [
    "plt.plot(history.history['mean_absolute_error'], label='train acc')\n",
    "plt.plot(history.history['loss'], label='train loss')\n",
    "plt.plot(history.history['val_mean_absolute_error'], label='val acc')\n",
    "plt.plot(history.history['val_loss'], label='val loss')\n",
    "plt.ylim(0.5, 1)\n",
    "plt.title('Mean square error')\n",
    "plt.ylabel('acc - loss')\n",
    "plt.xlabel('epochs')\n",
    "plt.legend(loc='upper right')"
   ]
  },
  {
   "cell_type": "code",
   "execution_count": null,
   "metadata": {},
   "outputs": [],
   "source": []
  }
 ],
 "metadata": {
  "kernelspec": {
   "display_name": "Python 3.6.8 64-bit ('.venv': virtualenv)",
   "language": "python",
   "name": "python36864bitvenvvirtualenvacaff34b38d84bbdb38c32a940f37472"
  },
  "language_info": {
   "codemirror_mode": {
    "name": "ipython",
    "version": 3
   },
   "file_extension": ".py",
   "mimetype": "text/x-python",
   "name": "python",
   "nbconvert_exporter": "python",
   "pygments_lexer": "ipython3",
   "version": "3.6.8"
  }
 },
 "nbformat": 4,
 "nbformat_minor": 4
}
