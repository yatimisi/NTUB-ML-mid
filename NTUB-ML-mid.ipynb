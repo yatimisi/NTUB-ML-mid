{
 "cells": [
  {
   "cell_type": "code",
   "execution_count": 1,
   "metadata": {},
   "outputs": [],
   "source": [
    "import os\n",
    "import numpy as np\n",
    "import pandas as pd\n",
    "import tensorflow as tf\n",
    "import matplotlib.pyplot as plt\n",
    "\n",
    "from tensorflow import keras\n",
    "from tensorflow.keras import layers"
   ]
  },
  {
   "cell_type": "markdown",
   "metadata": {},
   "source": [
    "# Data Structure"
   ]
  },
  {
   "cell_type": "code",
   "execution_count": 2,
   "metadata": {},
   "outputs": [
    {
     "name": "stdout",
     "output_type": "stream",
     "text": [
      "data/big-five-personality-test/6.csv\n",
      "data/big-five-personality-test/5.csv\n",
      "data/big-five-personality-test/4.csv\n",
      "data/big-five-personality-test/1.csv\n",
      "data/big-five-personality-test/3.csv\n",
      "data/big-five-personality-test/2.csv\n"
     ]
    }
   ],
   "source": [
    "data_dir = 'data'\n",
    "\n",
    "if os.path.isdir(data_dir):\n",
    "    for dirname, _, filenames in os.walk(data_dir):\n",
    "        for filename in filenames:\n",
    "            print(os.path.join(dirname, filename))\n",
    "else:\n",
    "    print('Please checkout to include-data branch.')"
   ]
  },
  {
   "cell_type": "markdown",
   "metadata": {},
   "source": [
    "# Handle Big Five Personality Data"
   ]
  },
  {
   "cell_type": "code",
   "execution_count": 3,
   "metadata": {},
   "outputs": [
    {
     "name": "stdout",
     "output_type": "stream",
     "text": [
      "Reading: data/big-five-personality-test/6.csv, Total: 13558\n",
      "Reading: data/big-five-personality-test/5.csv, Total: 200000\n",
      "Reading: data/big-five-personality-test/4.csv, Total: 200000\n",
      "Reading: data/big-five-personality-test/1.csv, Total: 200000\n",
      "Reading: data/big-five-personality-test/3.csv, Total: 200000\n",
      "Reading: data/big-five-personality-test/2.csv, Total: 200000\n",
      "Total: 1013558\n"
     ]
    },
    {
     "data": {
      "text/html": [
       "<div>\n",
       "<style scoped>\n",
       "    .dataframe tbody tr th:only-of-type {\n",
       "        vertical-align: middle;\n",
       "    }\n",
       "\n",
       "    .dataframe tbody tr th {\n",
       "        vertical-align: top;\n",
       "    }\n",
       "\n",
       "    .dataframe thead th {\n",
       "        text-align: right;\n",
       "    }\n",
       "</style>\n",
       "<table border=\"1\" class=\"dataframe\">\n",
       "  <thead>\n",
       "    <tr style=\"text-align: right;\">\n",
       "      <th></th>\n",
       "      <th>EXT1</th>\n",
       "      <th>EXT2</th>\n",
       "      <th>EXT3</th>\n",
       "      <th>EXT4</th>\n",
       "      <th>EXT5</th>\n",
       "      <th>EXT6</th>\n",
       "      <th>EXT7</th>\n",
       "      <th>EXT8</th>\n",
       "      <th>EXT9</th>\n",
       "      <th>EXT10</th>\n",
       "      <th>...</th>\n",
       "      <th>dateload</th>\n",
       "      <th>screenw</th>\n",
       "      <th>screenh</th>\n",
       "      <th>introelapse</th>\n",
       "      <th>testelapse</th>\n",
       "      <th>endelapse</th>\n",
       "      <th>IPC</th>\n",
       "      <th>country</th>\n",
       "      <th>lat_appx_lots_of_err</th>\n",
       "      <th>long_appx_lots_of_err</th>\n",
       "    </tr>\n",
       "  </thead>\n",
       "  <tbody>\n",
       "    <tr>\n",
       "      <th>0</th>\n",
       "      <td>2</td>\n",
       "      <td>2</td>\n",
       "      <td>4</td>\n",
       "      <td>5</td>\n",
       "      <td>3</td>\n",
       "      <td>2</td>\n",
       "      <td>3</td>\n",
       "      <td>5</td>\n",
       "      <td>1</td>\n",
       "      <td>5</td>\n",
       "      <td>...</td>\n",
       "      <td>2018-11-02 07:26:28</td>\n",
       "      <td>1920.0</td>\n",
       "      <td>1080.0</td>\n",
       "      <td>4.0</td>\n",
       "      <td>143</td>\n",
       "      <td>6</td>\n",
       "      <td>1</td>\n",
       "      <td>US</td>\n",
       "      <td>40.802</td>\n",
       "      <td>-77.8564</td>\n",
       "    </tr>\n",
       "    <tr>\n",
       "      <th>1</th>\n",
       "      <td>2</td>\n",
       "      <td>3</td>\n",
       "      <td>4</td>\n",
       "      <td>3</td>\n",
       "      <td>4</td>\n",
       "      <td>2</td>\n",
       "      <td>3</td>\n",
       "      <td>4</td>\n",
       "      <td>2</td>\n",
       "      <td>4</td>\n",
       "      <td>...</td>\n",
       "      <td>2018-11-02 07:27:05</td>\n",
       "      <td>375.0</td>\n",
       "      <td>812.0</td>\n",
       "      <td>16.0</td>\n",
       "      <td>487</td>\n",
       "      <td>11</td>\n",
       "      <td>2</td>\n",
       "      <td>US</td>\n",
       "      <td>38.0</td>\n",
       "      <td>-97.0</td>\n",
       "    </tr>\n",
       "    <tr>\n",
       "      <th>2</th>\n",
       "      <td>2</td>\n",
       "      <td>2</td>\n",
       "      <td>4</td>\n",
       "      <td>3</td>\n",
       "      <td>4</td>\n",
       "      <td>2</td>\n",
       "      <td>2</td>\n",
       "      <td>4</td>\n",
       "      <td>3</td>\n",
       "      <td>4</td>\n",
       "      <td>...</td>\n",
       "      <td>2018-11-02 07:27:48</td>\n",
       "      <td>1500.0</td>\n",
       "      <td>1000.0</td>\n",
       "      <td>10.0</td>\n",
       "      <td>414</td>\n",
       "      <td>13</td>\n",
       "      <td>1</td>\n",
       "      <td>US</td>\n",
       "      <td>47.8561</td>\n",
       "      <td>-122.2829</td>\n",
       "    </tr>\n",
       "    <tr>\n",
       "      <th>3</th>\n",
       "      <td>4</td>\n",
       "      <td>1</td>\n",
       "      <td>2</td>\n",
       "      <td>4</td>\n",
       "      <td>4</td>\n",
       "      <td>2</td>\n",
       "      <td>5</td>\n",
       "      <td>4</td>\n",
       "      <td>4</td>\n",
       "      <td>2</td>\n",
       "      <td>...</td>\n",
       "      <td>2018-11-02 07:28:14</td>\n",
       "      <td>1280.0</td>\n",
       "      <td>720.0</td>\n",
       "      <td>12.0</td>\n",
       "      <td>188</td>\n",
       "      <td>13</td>\n",
       "      <td>1</td>\n",
       "      <td>US</td>\n",
       "      <td>35.9606</td>\n",
       "      <td>-83.9207</td>\n",
       "    </tr>\n",
       "    <tr>\n",
       "      <th>4</th>\n",
       "      <td>1</td>\n",
       "      <td>5</td>\n",
       "      <td>2</td>\n",
       "      <td>4</td>\n",
       "      <td>3</td>\n",
       "      <td>3</td>\n",
       "      <td>1</td>\n",
       "      <td>5</td>\n",
       "      <td>1</td>\n",
       "      <td>5</td>\n",
       "      <td>...</td>\n",
       "      <td>2018-11-02 07:29:32</td>\n",
       "      <td>1366.0</td>\n",
       "      <td>768.0</td>\n",
       "      <td>29.0</td>\n",
       "      <td>105</td>\n",
       "      <td>9</td>\n",
       "      <td>1</td>\n",
       "      <td>US</td>\n",
       "      <td>34.7044</td>\n",
       "      <td>-84.4253</td>\n",
       "    </tr>\n",
       "  </tbody>\n",
       "</table>\n",
       "<p>5 rows × 110 columns</p>\n",
       "</div>"
      ],
      "text/plain": [
       "   EXT1  EXT2  EXT3  EXT4  EXT5  EXT6  EXT7  EXT8  EXT9  EXT10  ...  \\\n",
       "0     2     2     4     5     3     2     3     5     1      5  ...   \n",
       "1     2     3     4     3     4     2     3     4     2      4  ...   \n",
       "2     2     2     4     3     4     2     2     4     3      4  ...   \n",
       "3     4     1     2     4     4     2     5     4     4      2  ...   \n",
       "4     1     5     2     4     3     3     1     5     1      5  ...   \n",
       "\n",
       "              dateload  screenw  screenh  introelapse  testelapse  endelapse  \\\n",
       "0  2018-11-02 07:26:28   1920.0   1080.0          4.0         143          6   \n",
       "1  2018-11-02 07:27:05    375.0    812.0         16.0         487         11   \n",
       "2  2018-11-02 07:27:48   1500.0   1000.0         10.0         414         13   \n",
       "3  2018-11-02 07:28:14   1280.0    720.0         12.0         188         13   \n",
       "4  2018-11-02 07:29:32   1366.0    768.0         29.0         105          9   \n",
       "\n",
       "   IPC  country  lat_appx_lots_of_err  long_appx_lots_of_err  \n",
       "0    1       US                40.802               -77.8564  \n",
       "1    2       US                  38.0                  -97.0  \n",
       "2    1       US               47.8561              -122.2829  \n",
       "3    1       US               35.9606               -83.9207  \n",
       "4    1       US               34.7044               -84.4253  \n",
       "\n",
       "[5 rows x 110 columns]"
      ]
     },
     "execution_count": 3,
     "metadata": {},
     "output_type": "execute_result"
    }
   ],
   "source": [
    "data_final_dir = 'data/big-five-personality-test'\n",
    "\n",
    "csv_reading = list()\n",
    "is_reduce = False\n",
    "\n",
    "if os.path.isdir(data_final_dir):\n",
    "    for dirname, _, filenames in os.walk(data_final_dir):\n",
    "        for filename in filenames:\n",
    "            if(not is_reduce or filename == '6.csv'):\n",
    "                csv_reading.append(pd.read_csv(os.path.join(dirname, filename), sep='\\t'))\n",
    "                print(f'Reading: {os.path.join(dirname, filename)}, Total: {len(csv_reading[-1])}')\n",
    "else:\n",
    "    print('Please checkout to include-data branch.')\n",
    "\n",
    "data = pd.concat(csv_reading)  \n",
    "\n",
    "print(f'Total: {len(data)}')\n",
    "data.head()"
   ]
  },
  {
   "cell_type": "markdown",
   "metadata": {},
   "source": [
    "# Reverse value"
   ]
  },
  {
   "cell_type": "code",
   "execution_count": 4,
   "metadata": {},
   "outputs": [],
   "source": [
    "positively_keyed = ['EXT1', 'EXT3', 'EXT5', 'EXT7', 'EXT9',\n",
    "                    'EST1', 'EST3', 'EST5', 'EST6', 'EST7', 'EST8', 'EST9', 'EST10',\n",
    "                    'AGR2', 'AGR4', 'AGR6', 'AGR8', 'AGR9', 'AGR10',\n",
    "                    'CSN1', 'CSN3', 'CSN5', 'CSN7', 'CSN9', 'CSN10', \n",
    "                    'OPN1', 'OPN3', 'OPN5', 'OPN7', 'OPN8', 'OPN9', 'OPN10']\n",
    "\n",
    "negatively_keyed = ['EXT2', 'EXT4', 'EXT6', 'EXT8', 'EXT10',\n",
    "                    'EST2', 'EST4',\n",
    "                    'AGR1', 'AGR3', 'AGR5', 'AGR7', \n",
    "                    'CSN2', 'CSN4', 'CSN6', 'CSN8', \n",
    "                    'OPN2', 'OPN4', 'OPN6']"
   ]
  },
  {
   "cell_type": "code",
   "execution_count": 5,
   "metadata": {},
   "outputs": [],
   "source": [
    "data.loc[:, negatively_keyed] = 6 - data.loc[:, negatively_keyed]"
   ]
  },
  {
   "cell_type": "markdown",
   "metadata": {},
   "source": [
    "# Factor aggregation"
   ]
  },
  {
   "cell_type": "code",
   "execution_count": 6,
   "metadata": {},
   "outputs": [],
   "source": [
    "EXT = ['EXT' + str(i) for i in range(1,11)]\n",
    "EST = ['EST' + str(i) for i in range(1,11)]\n",
    "AGR = ['AGR' + str(i) for i in range(1,11)]\n",
    "CSN = ['CSN' + str(i) for i in range(1,11)]\n",
    "OPN = ['OPN' + str(i) for i in range(1,11)]"
   ]
  },
  {
   "cell_type": "code",
   "execution_count": 7,
   "metadata": {},
   "outputs": [],
   "source": [
    "data['OPN'] = data.loc[:, OPN].mean(axis=1)"
   ]
  },
  {
   "cell_type": "code",
   "execution_count": 8,
   "metadata": {},
   "outputs": [],
   "source": [
    "filter_columns = [] + EXT + EST + AGR + CSN + ['OPN', ]\n",
    "data = data.loc[:, filter_columns]"
   ]
  },
  {
   "cell_type": "code",
   "execution_count": 9,
   "metadata": {},
   "outputs": [
    {
     "name": "stdout",
     "output_type": "stream",
     "text": [
      "Total: 1013558\n"
     ]
    },
    {
     "data": {
      "text/html": [
       "<div>\n",
       "<style scoped>\n",
       "    .dataframe tbody tr th:only-of-type {\n",
       "        vertical-align: middle;\n",
       "    }\n",
       "\n",
       "    .dataframe tbody tr th {\n",
       "        vertical-align: top;\n",
       "    }\n",
       "\n",
       "    .dataframe thead th {\n",
       "        text-align: right;\n",
       "    }\n",
       "</style>\n",
       "<table border=\"1\" class=\"dataframe\">\n",
       "  <thead>\n",
       "    <tr style=\"text-align: right;\">\n",
       "      <th></th>\n",
       "      <th>EXT1</th>\n",
       "      <th>EXT2</th>\n",
       "      <th>EXT3</th>\n",
       "      <th>EXT4</th>\n",
       "      <th>EXT5</th>\n",
       "      <th>EXT6</th>\n",
       "      <th>EXT7</th>\n",
       "      <th>EXT8</th>\n",
       "      <th>EXT9</th>\n",
       "      <th>EXT10</th>\n",
       "      <th>...</th>\n",
       "      <th>CSN2</th>\n",
       "      <th>CSN3</th>\n",
       "      <th>CSN4</th>\n",
       "      <th>CSN5</th>\n",
       "      <th>CSN6</th>\n",
       "      <th>CSN7</th>\n",
       "      <th>CSN8</th>\n",
       "      <th>CSN9</th>\n",
       "      <th>CSN10</th>\n",
       "      <th>OPN</th>\n",
       "    </tr>\n",
       "  </thead>\n",
       "  <tbody>\n",
       "    <tr>\n",
       "      <th>0</th>\n",
       "      <td>2</td>\n",
       "      <td>4</td>\n",
       "      <td>4</td>\n",
       "      <td>1</td>\n",
       "      <td>3</td>\n",
       "      <td>4</td>\n",
       "      <td>3</td>\n",
       "      <td>1</td>\n",
       "      <td>1</td>\n",
       "      <td>1</td>\n",
       "      <td>...</td>\n",
       "      <td>4</td>\n",
       "      <td>4</td>\n",
       "      <td>4</td>\n",
       "      <td>4</td>\n",
       "      <td>4</td>\n",
       "      <td>3</td>\n",
       "      <td>3</td>\n",
       "      <td>3</td>\n",
       "      <td>3</td>\n",
       "      <td>3.4</td>\n",
       "    </tr>\n",
       "    <tr>\n",
       "      <th>1</th>\n",
       "      <td>2</td>\n",
       "      <td>3</td>\n",
       "      <td>4</td>\n",
       "      <td>3</td>\n",
       "      <td>4</td>\n",
       "      <td>4</td>\n",
       "      <td>3</td>\n",
       "      <td>2</td>\n",
       "      <td>2</td>\n",
       "      <td>2</td>\n",
       "      <td>...</td>\n",
       "      <td>4</td>\n",
       "      <td>4</td>\n",
       "      <td>5</td>\n",
       "      <td>3</td>\n",
       "      <td>4</td>\n",
       "      <td>5</td>\n",
       "      <td>4</td>\n",
       "      <td>5</td>\n",
       "      <td>3</td>\n",
       "      <td>4.2</td>\n",
       "    </tr>\n",
       "    <tr>\n",
       "      <th>2</th>\n",
       "      <td>2</td>\n",
       "      <td>4</td>\n",
       "      <td>4</td>\n",
       "      <td>3</td>\n",
       "      <td>4</td>\n",
       "      <td>4</td>\n",
       "      <td>2</td>\n",
       "      <td>2</td>\n",
       "      <td>3</td>\n",
       "      <td>2</td>\n",
       "      <td>...</td>\n",
       "      <td>3</td>\n",
       "      <td>4</td>\n",
       "      <td>4</td>\n",
       "      <td>2</td>\n",
       "      <td>4</td>\n",
       "      <td>4</td>\n",
       "      <td>4</td>\n",
       "      <td>4</td>\n",
       "      <td>4</td>\n",
       "      <td>3.9</td>\n",
       "    </tr>\n",
       "    <tr>\n",
       "      <th>3</th>\n",
       "      <td>4</td>\n",
       "      <td>5</td>\n",
       "      <td>2</td>\n",
       "      <td>2</td>\n",
       "      <td>4</td>\n",
       "      <td>4</td>\n",
       "      <td>5</td>\n",
       "      <td>2</td>\n",
       "      <td>4</td>\n",
       "      <td>4</td>\n",
       "      <td>...</td>\n",
       "      <td>2</td>\n",
       "      <td>3</td>\n",
       "      <td>4</td>\n",
       "      <td>2</td>\n",
       "      <td>1</td>\n",
       "      <td>5</td>\n",
       "      <td>2</td>\n",
       "      <td>4</td>\n",
       "      <td>4</td>\n",
       "      <td>3.1</td>\n",
       "    </tr>\n",
       "    <tr>\n",
       "      <th>4</th>\n",
       "      <td>1</td>\n",
       "      <td>1</td>\n",
       "      <td>2</td>\n",
       "      <td>2</td>\n",
       "      <td>3</td>\n",
       "      <td>3</td>\n",
       "      <td>1</td>\n",
       "      <td>1</td>\n",
       "      <td>1</td>\n",
       "      <td>1</td>\n",
       "      <td>...</td>\n",
       "      <td>5</td>\n",
       "      <td>5</td>\n",
       "      <td>4</td>\n",
       "      <td>4</td>\n",
       "      <td>5</td>\n",
       "      <td>5</td>\n",
       "      <td>4</td>\n",
       "      <td>4</td>\n",
       "      <td>4</td>\n",
       "      <td>4.0</td>\n",
       "    </tr>\n",
       "  </tbody>\n",
       "</table>\n",
       "<p>5 rows × 41 columns</p>\n",
       "</div>"
      ],
      "text/plain": [
       "   EXT1  EXT2  EXT3  EXT4  EXT5  EXT6  EXT7  EXT8  EXT9  EXT10  ...  CSN2  \\\n",
       "0     2     4     4     1     3     4     3     1     1      1  ...     4   \n",
       "1     2     3     4     3     4     4     3     2     2      2  ...     4   \n",
       "2     2     4     4     3     4     4     2     2     3      2  ...     3   \n",
       "3     4     5     2     2     4     4     5     2     4      4  ...     2   \n",
       "4     1     1     2     2     3     3     1     1     1      1  ...     5   \n",
       "\n",
       "   CSN3  CSN4  CSN5  CSN6  CSN7  CSN8  CSN9  CSN10  OPN  \n",
       "0     4     4     4     4     3     3     3      3  3.4  \n",
       "1     4     5     3     4     5     4     5      3  4.2  \n",
       "2     4     4     2     4     4     4     4      4  3.9  \n",
       "3     3     4     2     1     5     2     4      4  3.1  \n",
       "4     5     4     4     5     5     4     4      4  4.0  \n",
       "\n",
       "[5 rows x 41 columns]"
      ]
     },
     "execution_count": 9,
     "metadata": {},
     "output_type": "execute_result"
    }
   ],
   "source": [
    "print(f'Total: {len(data)}')\n",
    "data.head()"
   ]
  },
  {
   "cell_type": "code",
   "execution_count": 10,
   "metadata": {},
   "outputs": [
    {
     "data": {
      "text/plain": [
       "EXT1       int64\n",
       "EXT2       int64\n",
       "EXT3       int64\n",
       "EXT4       int64\n",
       "EXT5       int64\n",
       "EXT6       int64\n",
       "EXT7       int64\n",
       "EXT8       int64\n",
       "EXT9       int64\n",
       "EXT10      int64\n",
       "EST1       int64\n",
       "EST2       int64\n",
       "EST3       int64\n",
       "EST4       int64\n",
       "EST5       int64\n",
       "EST6       int64\n",
       "EST7       int64\n",
       "EST8       int64\n",
       "EST9       int64\n",
       "EST10      int64\n",
       "AGR1       int64\n",
       "AGR2       int64\n",
       "AGR3       int64\n",
       "AGR4       int64\n",
       "AGR5       int64\n",
       "AGR6       int64\n",
       "AGR7       int64\n",
       "AGR8       int64\n",
       "AGR9       int64\n",
       "AGR10      int64\n",
       "CSN1       int64\n",
       "CSN2       int64\n",
       "CSN3       int64\n",
       "CSN4       int64\n",
       "CSN5       int64\n",
       "CSN6       int64\n",
       "CSN7       int64\n",
       "CSN8       int64\n",
       "CSN9       int64\n",
       "CSN10      int64\n",
       "OPN      float64\n",
       "dtype: object"
      ]
     },
     "execution_count": 10,
     "metadata": {},
     "output_type": "execute_result"
    }
   ],
   "source": [
    "data.dtypes"
   ]
  },
  {
   "cell_type": "markdown",
   "metadata": {},
   "source": [
    "# Random Data"
   ]
  },
  {
   "cell_type": "code",
   "execution_count": 11,
   "metadata": {},
   "outputs": [],
   "source": [
    "data_num = data.shape[0]\n",
    "indexes = np.random.permutation(data_num)"
   ]
  },
  {
   "cell_type": "code",
   "execution_count": 12,
   "metadata": {},
   "outputs": [
    {
     "name": "stdout",
     "output_type": "stream",
     "text": [
      "train_data: 993286\n",
      "val_data: 10136\n",
      "test_data: 10136\n"
     ]
    }
   ],
   "source": [
    "proportion = [0.98, 0.01, 0.01] if data_num > 1000000 else [0.6, 0.2, 0.2]\n",
    "\n",
    "train_indexes = indexes[:int(data_num * proportion[0])]\n",
    "val_indexes = indexes[int(data_num * proportion[0]):int(data_num * (proportion[0] + proportion[1]))]\n",
    "test_indexes = indexes[int(data_num * (proportion[0] + proportion[1])):]\n",
    "\n",
    "train_data = data.loc[train_indexes] if is_reduce else data[:int(data_num * proportion[0])]\n",
    "val_data = data.loc[val_indexes] if is_reduce else data[int(data_num * proportion[0]):int(data_num * (proportion[0] + proportion[1]))]\n",
    "test_data = data.loc[test_indexes] if is_reduce else data[int(data_num * (proportion[0] + proportion[1])):]\n",
    "\n",
    "print(f'''train_data: {len(train_data)}\n",
    "val_data: {len(val_data)}\n",
    "test_data: {len(test_data)}''')"
   ]
  },
  {
   "cell_type": "markdown",
   "metadata": {},
   "source": [
    "# Normalization"
   ]
  },
  {
   "cell_type": "code",
   "execution_count": 13,
   "metadata": {},
   "outputs": [],
   "source": [
    "train_validation_data = pd.concat([train_data, val_data])\n",
    "mean = train_validation_data.mean()\n",
    "std = train_validation_data.std()"
   ]
  },
  {
   "cell_type": "code",
   "execution_count": 14,
   "metadata": {},
   "outputs": [],
   "source": [
    "train_data = (train_data - mean) / std\n",
    "val_data = (val_data - mean) / std"
   ]
  },
  {
   "cell_type": "markdown",
   "metadata": {},
   "source": [
    "# Establish training data in Numpy array format"
   ]
  },
  {
   "cell_type": "code",
   "execution_count": 15,
   "metadata": {},
   "outputs": [],
   "source": [
    "x_train = np.array(train_data.drop('OPN', axis='columns'))\n",
    "y_train = np.array(train_data['OPN'])\n",
    "x_val = np.array(val_data.drop('OPN', axis='columns'))\n",
    "y_val = np.array(val_data['OPN'])"
   ]
  },
  {
   "cell_type": "code",
   "execution_count": 16,
   "metadata": {},
   "outputs": [],
   "source": [
    "model_dir = os.path.join('logs', 'models')\n",
    "\n",
    "if not os.path.exists(model_dir):\n",
    "    os.makedirs(model_dir)"
   ]
  },
  {
   "cell_type": "markdown",
   "metadata": {},
   "source": [
    "# Create Model"
   ]
  },
  {
   "cell_type": "markdown",
   "metadata": {},
   "source": [
    "## Initialising the ANN"
   ]
  },
  {
   "cell_type": "code",
   "execution_count": 17,
   "metadata": {},
   "outputs": [],
   "source": [
    "model = keras.Sequential(name='model')"
   ]
  },
  {
   "cell_type": "markdown",
   "metadata": {},
   "source": [
    "## Adding the input layer and the first hidden layer"
   ]
  },
  {
   "cell_type": "code",
   "execution_count": 18,
   "metadata": {},
   "outputs": [],
   "source": [
    "model.add(layers.Dense(64, kernel_initializer='uniform', activation='relu', input_shape=((len(filter_columns) - 1),)))\n",
    "model.add(layers.Dropout(0.3))\n",
    "model.add(layers.Dense(64, kernel_initializer='uniform', activation='relu'))\n",
    "model.add(layers.Dropout(0.3))\n",
    "model.add(layers.Dense(1))"
   ]
  },
  {
   "cell_type": "markdown",
   "metadata": {},
   "source": [
    "## Compiling the ANN"
   ]
  },
  {
   "cell_type": "code",
   "execution_count": 19,
   "metadata": {},
   "outputs": [],
   "source": [
    "model.compile(keras.optimizers.Adam(0.001),\n",
    "              loss=keras.losses.MeanSquaredError(),\n",
    "              metrics=[keras.metrics.MeanAbsoluteError()])"
   ]
  },
  {
   "cell_type": "markdown",
   "metadata": {},
   "source": [
    "## Set callback function"
   ]
  },
  {
   "cell_type": "code",
   "execution_count": 20,
   "metadata": {},
   "outputs": [],
   "source": [
    "log_dir = os.path.join('logs', 'model')\n",
    "model_cbk = keras.callbacks.TensorBoard(log_dir=log_dir)\n",
    "model_mckp = keras.callbacks.ModelCheckpoint(os.path.join(model_dir, 'Best-model.h5'), \n",
    "                                             monitor='val_mean_absolute_error', \n",
    "                                             save_best_only=True, \n",
    "                                             mode='min')"
   ]
  },
  {
   "cell_type": "code",
   "execution_count": 21,
   "metadata": {},
   "outputs": [
    {
     "name": "stdout",
     "output_type": "stream",
     "text": [
      "Train on 993286 samples, validate on 10136 samples\n",
      "Epoch 1/100\n",
      "993286/993286 [==============================] - 10s 10us/sample - loss: 0.7242 - mean_absolute_error: 0.6766 - val_loss: 0.7083 - val_mean_absolute_error: 0.6629\n",
      "Epoch 2/100\n",
      "993286/993286 [==============================] - 8s 9us/sample - loss: 0.7143 - mean_absolute_error: 0.6715 - val_loss: 0.7082 - val_mean_absolute_error: 0.6634\n",
      "Epoch 3/100\n",
      "993286/993286 [==============================] - 8s 9us/sample - loss: 0.7122 - mean_absolute_error: 0.6703 - val_loss: 0.7053 - val_mean_absolute_error: 0.6628\n",
      "Epoch 4/100\n",
      "993286/993286 [==============================] - 8s 9us/sample - loss: 0.7104 - mean_absolute_error: 0.6692 - val_loss: 0.7015 - val_mean_absolute_error: 0.6599\n",
      "Epoch 5/100\n",
      "993286/993286 [==============================] - 9s 9us/sample - loss: 0.7093 - mean_absolute_error: 0.6687 - val_loss: 0.7021 - val_mean_absolute_error: 0.6628\n",
      "Epoch 6/100\n",
      "993286/993286 [==============================] - 9s 9us/sample - loss: 0.7085 - mean_absolute_error: 0.6684 - val_loss: 0.7050 - val_mean_absolute_error: 0.6628\n",
      "Epoch 7/100\n",
      "993286/993286 [==============================] - 9s 9us/sample - loss: 0.7076 - mean_absolute_error: 0.6678 - val_loss: 0.6999 - val_mean_absolute_error: 0.6608\n",
      "Epoch 8/100\n",
      "993286/993286 [==============================] - 9s 9us/sample - loss: 0.7076 - mean_absolute_error: 0.6678 - val_loss: 0.7008 - val_mean_absolute_error: 0.6613\n",
      "Epoch 9/100\n",
      "993286/993286 [==============================] - 9s 9us/sample - loss: 0.7070 - mean_absolute_error: 0.6674 - val_loss: 0.6970 - val_mean_absolute_error: 0.6604\n",
      "Epoch 10/100\n",
      "993286/993286 [==============================] - 9s 9us/sample - loss: 0.7070 - mean_absolute_error: 0.6675 - val_loss: 0.7021 - val_mean_absolute_error: 0.6600\n",
      "Epoch 11/100\n",
      "993286/993286 [==============================] - 9s 9us/sample - loss: 0.7067 - mean_absolute_error: 0.6673 - val_loss: 0.6952 - val_mean_absolute_error: 0.6593\n",
      "Epoch 12/100\n",
      "993286/993286 [==============================] - 9s 9us/sample - loss: 0.7063 - mean_absolute_error: 0.6671 - val_loss: 0.7002 - val_mean_absolute_error: 0.6600\n",
      "Epoch 13/100\n",
      "993286/993286 [==============================] - 9s 9us/sample - loss: 0.7063 - mean_absolute_error: 0.6672 - val_loss: 0.6933 - val_mean_absolute_error: 0.6561\n",
      "Epoch 14/100\n",
      "993286/993286 [==============================] - 9s 9us/sample - loss: 0.7059 - mean_absolute_error: 0.6668 - val_loss: 0.7031 - val_mean_absolute_error: 0.6618\n",
      "Epoch 15/100\n",
      "993286/993286 [==============================] - 9s 9us/sample - loss: 0.7055 - mean_absolute_error: 0.6667 - val_loss: 0.7049 - val_mean_absolute_error: 0.6644\n",
      "Epoch 16/100\n",
      "993286/993286 [==============================] - 9s 9us/sample - loss: 0.7054 - mean_absolute_error: 0.6667 - val_loss: 0.6998 - val_mean_absolute_error: 0.6594\n",
      "Epoch 17/100\n",
      "993286/993286 [==============================] - 9s 9us/sample - loss: 0.7053 - mean_absolute_error: 0.6666 - val_loss: 0.7103 - val_mean_absolute_error: 0.6682\n",
      "Epoch 18/100\n",
      "993286/993286 [==============================] - 9s 9us/sample - loss: 0.7056 - mean_absolute_error: 0.6668 - val_loss: 0.7070 - val_mean_absolute_error: 0.6639\n",
      "Epoch 19/100\n",
      "993286/993286 [==============================] - 9s 9us/sample - loss: 0.7048 - mean_absolute_error: 0.6664 - val_loss: 0.7005 - val_mean_absolute_error: 0.6622\n",
      "Epoch 20/100\n",
      "993286/993286 [==============================] - 9s 9us/sample - loss: 0.7049 - mean_absolute_error: 0.6664 - val_loss: 0.7032 - val_mean_absolute_error: 0.6646\n",
      "Epoch 21/100\n",
      "993286/993286 [==============================] - 9s 9us/sample - loss: 0.7048 - mean_absolute_error: 0.6663 - val_loss: 0.7024 - val_mean_absolute_error: 0.6637\n",
      "Epoch 22/100\n",
      "993286/993286 [==============================] - 9s 9us/sample - loss: 0.7044 - mean_absolute_error: 0.6660 - val_loss: 0.7080 - val_mean_absolute_error: 0.6667\n",
      "Epoch 23/100\n",
      "993286/993286 [==============================] - 9s 9us/sample - loss: 0.7045 - mean_absolute_error: 0.6661 - val_loss: 0.7015 - val_mean_absolute_error: 0.6631\n",
      "Epoch 24/100\n",
      "993286/993286 [==============================] - 9s 9us/sample - loss: 0.7046 - mean_absolute_error: 0.6662 - val_loss: 0.6985 - val_mean_absolute_error: 0.6634\n",
      "Epoch 25/100\n",
      "993286/993286 [==============================] - 9s 9us/sample - loss: 0.7042 - mean_absolute_error: 0.6660 - val_loss: 0.6967 - val_mean_absolute_error: 0.6600\n",
      "Epoch 26/100\n",
      "993286/993286 [==============================] - 9s 9us/sample - loss: 0.7040 - mean_absolute_error: 0.6660 - val_loss: 0.7079 - val_mean_absolute_error: 0.6668\n",
      "Epoch 27/100\n",
      "993286/993286 [==============================] - 9s 9us/sample - loss: 0.7041 - mean_absolute_error: 0.6662 - val_loss: 0.6947 - val_mean_absolute_error: 0.6578\n",
      "Epoch 28/100\n",
      "993286/993286 [==============================] - 9s 9us/sample - loss: 0.7040 - mean_absolute_error: 0.6660 - val_loss: 0.6951 - val_mean_absolute_error: 0.6595\n",
      "Epoch 29/100\n",
      "993286/993286 [==============================] - 9s 9us/sample - loss: 0.7039 - mean_absolute_error: 0.6659 - val_loss: 0.7028 - val_mean_absolute_error: 0.6647\n",
      "Epoch 30/100\n",
      "993286/993286 [==============================] - 9s 9us/sample - loss: 0.7037 - mean_absolute_error: 0.6657 - val_loss: 0.6982 - val_mean_absolute_error: 0.6620\n",
      "Epoch 31/100\n",
      "993286/993286 [==============================] - 9s 9us/sample - loss: 0.7038 - mean_absolute_error: 0.6657 - val_loss: 0.6974 - val_mean_absolute_error: 0.6606\n",
      "Epoch 32/100\n",
      "993286/993286 [==============================] - 9s 9us/sample - loss: 0.7034 - mean_absolute_error: 0.6658 - val_loss: 0.6967 - val_mean_absolute_error: 0.6603\n",
      "Epoch 33/100\n",
      "993286/993286 [==============================] - 9s 9us/sample - loss: 0.7039 - mean_absolute_error: 0.6660 - val_loss: 0.7043 - val_mean_absolute_error: 0.6652\n",
      "Epoch 34/100\n",
      "993286/993286 [==============================] - 9s 9us/sample - loss: 0.7032 - mean_absolute_error: 0.6655 - val_loss: 0.7013 - val_mean_absolute_error: 0.6642\n",
      "Epoch 35/100\n",
      "993286/993286 [==============================] - 9s 9us/sample - loss: 0.7035 - mean_absolute_error: 0.6657 - val_loss: 0.7056 - val_mean_absolute_error: 0.6660\n",
      "Epoch 36/100\n",
      "993286/993286 [==============================] - 10s 10us/sample - loss: 0.7033 - mean_absolute_error: 0.6656 - val_loss: 0.7030 - val_mean_absolute_error: 0.6623\n",
      "Epoch 37/100\n",
      "993286/993286 [==============================] - 9s 9us/sample - loss: 0.7038 - mean_absolute_error: 0.6658 - val_loss: 0.6990 - val_mean_absolute_error: 0.6608\n",
      "Epoch 38/100\n",
      "993286/993286 [==============================] - 9s 9us/sample - loss: 0.7036 - mean_absolute_error: 0.6657 - val_loss: 0.6992 - val_mean_absolute_error: 0.6619\n",
      "Epoch 39/100\n",
      "993286/993286 [==============================] - 9s 9us/sample - loss: 0.7033 - mean_absolute_error: 0.6655 - val_loss: 0.7003 - val_mean_absolute_error: 0.6613\n",
      "Epoch 40/100\n",
      "993286/993286 [==============================] - 9s 9us/sample - loss: 0.7032 - mean_absolute_error: 0.6655 - val_loss: 0.7095 - val_mean_absolute_error: 0.6686\n",
      "Epoch 41/100\n",
      "993286/993286 [==============================] - 9s 9us/sample - loss: 0.7034 - mean_absolute_error: 0.6656 - val_loss: 0.7006 - val_mean_absolute_error: 0.6621\n",
      "Epoch 42/100\n",
      "993286/993286 [==============================] - 9s 9us/sample - loss: 0.7029 - mean_absolute_error: 0.6653 - val_loss: 0.7102 - val_mean_absolute_error: 0.6672\n",
      "Epoch 43/100\n",
      "993286/993286 [==============================] - 10s 11us/sample - loss: 0.7030 - mean_absolute_error: 0.6655 - val_loss: 0.7083 - val_mean_absolute_error: 0.6682\n",
      "Epoch 44/100\n",
      "993286/993286 [==============================] - 11s 11us/sample - loss: 0.7030 - mean_absolute_error: 0.6653 - val_loss: 0.7132 - val_mean_absolute_error: 0.6698\n",
      "Epoch 45/100\n",
      "993286/993286 [==============================] - 10s 10us/sample - loss: 0.7030 - mean_absolute_error: 0.6654 - val_loss: 0.7070 - val_mean_absolute_error: 0.6691\n",
      "Epoch 46/100\n",
      "993286/993286 [==============================] - 10s 10us/sample - loss: 0.7029 - mean_absolute_error: 0.6654 - val_loss: 0.7008 - val_mean_absolute_error: 0.6627\n",
      "Epoch 47/100\n"
     ]
    },
    {
     "name": "stdout",
     "output_type": "stream",
     "text": [
      "993286/993286 [==============================] - 10s 10us/sample - loss: 0.7034 - mean_absolute_error: 0.6655 - val_loss: 0.7020 - val_mean_absolute_error: 0.6627\n",
      "Epoch 48/100\n",
      "993286/993286 [==============================] - 9s 9us/sample - loss: 0.7026 - mean_absolute_error: 0.6653 - val_loss: 0.6962 - val_mean_absolute_error: 0.6588\n",
      "Epoch 49/100\n",
      "993286/993286 [==============================] - 9s 9us/sample - loss: 0.7026 - mean_absolute_error: 0.6652 - val_loss: 0.6983 - val_mean_absolute_error: 0.6623\n",
      "Epoch 50/100\n",
      "993286/993286 [==============================] - 9s 9us/sample - loss: 0.7028 - mean_absolute_error: 0.6655 - val_loss: 0.7032 - val_mean_absolute_error: 0.6642\n",
      "Epoch 51/100\n",
      "993286/993286 [==============================] - 9s 9us/sample - loss: 0.7029 - mean_absolute_error: 0.6655 - val_loss: 0.7004 - val_mean_absolute_error: 0.6620\n",
      "Epoch 52/100\n",
      "993286/993286 [==============================] - 9s 9us/sample - loss: 0.7031 - mean_absolute_error: 0.6654 - val_loss: 0.7123 - val_mean_absolute_error: 0.6703\n",
      "Epoch 53/100\n",
      "993286/993286 [==============================] - 9s 9us/sample - loss: 0.7027 - mean_absolute_error: 0.6653 - val_loss: 0.7014 - val_mean_absolute_error: 0.6627\n",
      "Epoch 54/100\n",
      "993286/993286 [==============================] - 9s 9us/sample - loss: 0.7030 - mean_absolute_error: 0.6653 - val_loss: 0.7030 - val_mean_absolute_error: 0.6639\n",
      "Epoch 55/100\n",
      "993286/993286 [==============================] - 9s 9us/sample - loss: 0.7029 - mean_absolute_error: 0.6652 - val_loss: 0.6999 - val_mean_absolute_error: 0.6612\n",
      "Epoch 56/100\n",
      "993286/993286 [==============================] - 9s 9us/sample - loss: 0.7027 - mean_absolute_error: 0.6652 - val_loss: 0.7090 - val_mean_absolute_error: 0.6682\n",
      "Epoch 57/100\n",
      "993286/993286 [==============================] - 9s 9us/sample - loss: 0.7028 - mean_absolute_error: 0.6653 - val_loss: 0.6988 - val_mean_absolute_error: 0.6605\n",
      "Epoch 58/100\n",
      "993286/993286 [==============================] - 9s 9us/sample - loss: 0.7028 - mean_absolute_error: 0.6654 - val_loss: 0.6989 - val_mean_absolute_error: 0.6625\n",
      "Epoch 59/100\n",
      "993286/993286 [==============================] - 9s 9us/sample - loss: 0.7026 - mean_absolute_error: 0.6651 - val_loss: 0.7054 - val_mean_absolute_error: 0.6639\n",
      "Epoch 60/100\n",
      "993286/993286 [==============================] - 9s 9us/sample - loss: 0.7020 - mean_absolute_error: 0.6650 - val_loss: 0.7077 - val_mean_absolute_error: 0.6686\n",
      "Epoch 61/100\n",
      "993286/993286 [==============================] - 9s 9us/sample - loss: 0.7022 - mean_absolute_error: 0.6650 - val_loss: 0.7036 - val_mean_absolute_error: 0.6666\n",
      "Epoch 62/100\n",
      "993286/993286 [==============================] - 9s 9us/sample - loss: 0.7029 - mean_absolute_error: 0.6653 - val_loss: 0.7032 - val_mean_absolute_error: 0.6643\n",
      "Epoch 63/100\n",
      "993286/993286 [==============================] - 9s 9us/sample - loss: 0.7027 - mean_absolute_error: 0.6653 - val_loss: 0.7088 - val_mean_absolute_error: 0.6685\n",
      "Epoch 64/100\n",
      "993286/993286 [==============================] - 9s 9us/sample - loss: 0.7028 - mean_absolute_error: 0.6653 - val_loss: 0.7033 - val_mean_absolute_error: 0.6646\n",
      "Epoch 65/100\n",
      "993286/993286 [==============================] - 9s 9us/sample - loss: 0.7023 - mean_absolute_error: 0.6652 - val_loss: 0.7015 - val_mean_absolute_error: 0.6622\n",
      "Epoch 66/100\n",
      "993286/993286 [==============================] - 9s 9us/sample - loss: 0.7029 - mean_absolute_error: 0.6653 - val_loss: 0.7052 - val_mean_absolute_error: 0.6664\n",
      "Epoch 67/100\n",
      "993286/993286 [==============================] - 9s 9us/sample - loss: 0.7024 - mean_absolute_error: 0.6651 - val_loss: 0.6994 - val_mean_absolute_error: 0.6605\n",
      "Epoch 68/100\n",
      "993286/993286 [==============================] - 9s 9us/sample - loss: 0.7023 - mean_absolute_error: 0.6653 - val_loss: 0.7068 - val_mean_absolute_error: 0.6693\n",
      "Epoch 69/100\n",
      "993286/993286 [==============================] - 9s 9us/sample - loss: 0.7027 - mean_absolute_error: 0.6653 - val_loss: 0.7007 - val_mean_absolute_error: 0.6634\n",
      "Epoch 70/100\n",
      "993286/993286 [==============================] - 9s 9us/sample - loss: 0.7023 - mean_absolute_error: 0.6650 - val_loss: 0.7044 - val_mean_absolute_error: 0.6662\n",
      "Epoch 71/100\n",
      "993286/993286 [==============================] - 9s 9us/sample - loss: 0.7026 - mean_absolute_error: 0.6652 - val_loss: 0.7174 - val_mean_absolute_error: 0.6727\n",
      "Epoch 72/100\n",
      "993286/993286 [==============================] - 9s 9us/sample - loss: 0.7025 - mean_absolute_error: 0.6651 - val_loss: 0.7085 - val_mean_absolute_error: 0.6690\n",
      "Epoch 73/100\n",
      "993286/993286 [==============================] - 9s 9us/sample - loss: 0.7024 - mean_absolute_error: 0.6651 - val_loss: 0.7008 - val_mean_absolute_error: 0.6629\n",
      "Epoch 74/100\n",
      "993286/993286 [==============================] - 9s 9us/sample - loss: 0.7027 - mean_absolute_error: 0.6653 - val_loss: 0.7084 - val_mean_absolute_error: 0.6690\n",
      "Epoch 75/100\n",
      "993286/993286 [==============================] - 9s 9us/sample - loss: 0.7024 - mean_absolute_error: 0.6651 - val_loss: 0.7015 - val_mean_absolute_error: 0.6626\n",
      "Epoch 76/100\n",
      "993286/993286 [==============================] - 9s 9us/sample - loss: 0.7025 - mean_absolute_error: 0.6650 - val_loss: 0.6998 - val_mean_absolute_error: 0.6618\n",
      "Epoch 77/100\n",
      "993286/993286 [==============================] - 9s 9us/sample - loss: 0.7027 - mean_absolute_error: 0.6654 - val_loss: 0.6987 - val_mean_absolute_error: 0.6613\n",
      "Epoch 78/100\n",
      "993286/993286 [==============================] - 9s 9us/sample - loss: 0.7023 - mean_absolute_error: 0.6652 - val_loss: 0.6996 - val_mean_absolute_error: 0.6613\n",
      "Epoch 79/100\n",
      "993286/993286 [==============================] - 9s 9us/sample - loss: 0.7020 - mean_absolute_error: 0.6648 - val_loss: 0.7089 - val_mean_absolute_error: 0.6689\n",
      "Epoch 80/100\n",
      "993286/993286 [==============================] - 9s 9us/sample - loss: 0.7021 - mean_absolute_error: 0.6649 - val_loss: 0.7128 - val_mean_absolute_error: 0.6695\n",
      "Epoch 81/100\n",
      "993286/993286 [==============================] - 9s 9us/sample - loss: 0.7025 - mean_absolute_error: 0.6651 - val_loss: 0.7027 - val_mean_absolute_error: 0.6654\n",
      "Epoch 82/100\n",
      "993286/993286 [==============================] - 9s 9us/sample - loss: 0.7025 - mean_absolute_error: 0.6651 - val_loss: 0.6998 - val_mean_absolute_error: 0.6629\n",
      "Epoch 83/100\n",
      "993286/993286 [==============================] - 9s 9us/sample - loss: 0.7028 - mean_absolute_error: 0.6652 - val_loss: 0.7012 - val_mean_absolute_error: 0.6636\n",
      "Epoch 84/100\n",
      "993286/993286 [==============================] - 9s 9us/sample - loss: 0.7029 - mean_absolute_error: 0.6655 - val_loss: 0.7006 - val_mean_absolute_error: 0.6644\n",
      "Epoch 85/100\n",
      "993286/993286 [==============================] - 9s 9us/sample - loss: 0.7030 - mean_absolute_error: 0.6654 - val_loss: 0.6981 - val_mean_absolute_error: 0.6612\n",
      "Epoch 86/100\n",
      "993286/993286 [==============================] - 9s 9us/sample - loss: 0.7023 - mean_absolute_error: 0.6651 - val_loss: 0.6988 - val_mean_absolute_error: 0.6602\n",
      "Epoch 87/100\n",
      "993286/993286 [==============================] - 9s 9us/sample - loss: 0.7020 - mean_absolute_error: 0.6648 - val_loss: 0.7015 - val_mean_absolute_error: 0.6635\n",
      "Epoch 88/100\n",
      "993286/993286 [==============================] - 9s 9us/sample - loss: 0.7023 - mean_absolute_error: 0.6650 - val_loss: 0.7023 - val_mean_absolute_error: 0.6616\n",
      "Epoch 89/100\n",
      "993286/993286 [==============================] - 9s 9us/sample - loss: 0.7025 - mean_absolute_error: 0.6653 - val_loss: 0.6993 - val_mean_absolute_error: 0.6630\n",
      "Epoch 90/100\n",
      "993286/993286 [==============================] - 9s 9us/sample - loss: 0.7024 - mean_absolute_error: 0.6651 - val_loss: 0.6980 - val_mean_absolute_error: 0.6614\n",
      "Epoch 91/100\n",
      "993286/993286 [==============================] - 9s 9us/sample - loss: 0.7021 - mean_absolute_error: 0.6649 - val_loss: 0.7032 - val_mean_absolute_error: 0.6653\n",
      "Epoch 92/100\n",
      "993286/993286 [==============================] - 9s 9us/sample - loss: 0.7023 - mean_absolute_error: 0.6649 - val_loss: 0.7025 - val_mean_absolute_error: 0.6663\n",
      "Epoch 93/100\n",
      "993286/993286 [==============================] - 9s 9us/sample - loss: 0.7021 - mean_absolute_error: 0.6649 - val_loss: 0.7073 - val_mean_absolute_error: 0.6673\n",
      "Epoch 94/100\n"
     ]
    },
    {
     "name": "stdout",
     "output_type": "stream",
     "text": [
      "993286/993286 [==============================] - 9s 9us/sample - loss: 0.7018 - mean_absolute_error: 0.6648 - val_loss: 0.6998 - val_mean_absolute_error: 0.6631\n",
      "Epoch 95/100\n",
      "993286/993286 [==============================] - 9s 9us/sample - loss: 0.7021 - mean_absolute_error: 0.6648 - val_loss: 0.7002 - val_mean_absolute_error: 0.6629\n",
      "Epoch 96/100\n",
      "993286/993286 [==============================] - 9s 9us/sample - loss: 0.7023 - mean_absolute_error: 0.6650 - val_loss: 0.7083 - val_mean_absolute_error: 0.6675\n",
      "Epoch 97/100\n",
      "993286/993286 [==============================] - 9s 9us/sample - loss: 0.7021 - mean_absolute_error: 0.6649 - val_loss: 0.6989 - val_mean_absolute_error: 0.6626\n",
      "Epoch 98/100\n",
      "993286/993286 [==============================] - 9s 9us/sample - loss: 0.7019 - mean_absolute_error: 0.6649 - val_loss: 0.6990 - val_mean_absolute_error: 0.6603\n",
      "Epoch 99/100\n",
      "993286/993286 [==============================] - 9s 9us/sample - loss: 0.7026 - mean_absolute_error: 0.6651 - val_loss: 0.6978 - val_mean_absolute_error: 0.6625\n",
      "Epoch 100/100\n",
      "993286/993286 [==============================] - 9s 9us/sample - loss: 0.7023 - mean_absolute_error: 0.6650 - val_loss: 0.7110 - val_mean_absolute_error: 0.6690\n"
     ]
    }
   ],
   "source": [
    "history = model.fit(x_train, y_train,\n",
    "               batch_size=150,\n",
    "               epochs=100,\n",
    "               validation_data=(x_val, y_val),\n",
    "               callbacks=[model_cbk, model_mckp])"
   ]
  },
  {
   "cell_type": "markdown",
   "metadata": {},
   "source": [
    "# Verify the effectiveness"
   ]
  },
  {
   "cell_type": "code",
   "execution_count": 22,
   "metadata": {},
   "outputs": [],
   "source": [
    "model = keras.models.load_model(os.path.join(model_dir, 'Best-model.h5'))\n",
    "\n",
    "y_test = np.array(test_data['OPN'])\n",
    "test_data = (test_data - mean) / std\n",
    "\n",
    "x_test = np.array(test_data.drop('OPN', axis='columns'))\n",
    "y_pred = model.predict(x_test)\n",
    "y_pred = np.reshape(y_pred * std['OPN'] + mean['OPN'], y_test.shape)\n",
    "model_percentage_error = np.nanmean(np.abs(y_test - y_pred)) / np.nanmean(y_test) * 100"
   ]
  },
  {
   "cell_type": "markdown",
   "metadata": {},
   "source": [
    "# Results of training"
   ]
  },
  {
   "cell_type": "markdown",
   "metadata": {},
   "source": [
    "## Percentage Error"
   ]
  },
  {
   "cell_type": "code",
   "execution_count": 23,
   "metadata": {},
   "outputs": [
    {
     "name": "stdout",
     "output_type": "stream",
     "text": [
      "Model: 11.06%\n"
     ]
    }
   ],
   "source": [
    "print(\"Model: {:.2f}%\".format(model_percentage_error))"
   ]
  },
  {
   "cell_type": "markdown",
   "metadata": {},
   "source": [
    "## acc curve diagram"
   ]
  },
  {
   "cell_type": "code",
   "execution_count": 32,
   "metadata": {},
   "outputs": [
    {
     "data": {
      "text/plain": [
       "<matplotlib.legend.Legend at 0x141334dd8>"
      ]
     },
     "execution_count": 32,
     "metadata": {},
     "output_type": "execute_result"
    },
    {
     "data": {
      "image/png": "[encoded data removed]",
      "text/plain": [
       "<Figure size 432x288 with 1 Axes>"
      ]
     },
     "metadata": {
      "needs_background": "light"
     },
     "output_type": "display_data"
    }
   ],
   "source": [
    "plt.plot(history.history['mean_absolute_error'], label='train')\n",
    "plt.plot(history.history['val_mean_absolute_error'], label='validation')\n",
    "plt.ylim(0.65, 0.7)\n",
    "plt.title('Mean absolute error')\n",
    "plt.ylabel('metrics')\n",
    "plt.xlabel('epochs')\n",
    "plt.legend(loc='upper right')"
   ]
  },
  {
   "cell_type": "markdown",
   "metadata": {},
   "source": [
    "## loss curve diagram"
   ]
  },
  {
   "cell_type": "code",
   "execution_count": 36,
   "metadata": {},
   "outputs": [
    {
     "data": {
      "text/plain": [
       "<matplotlib.legend.Legend at 0x141d53b00>"
      ]
     },
     "execution_count": 36,
     "metadata": {},
     "output_type": "execute_result"
    },
    {
     "data": {
      "image/png": "[encoded data removed]",
      "text/plain": [
       "<Figure size 432x288 with 1 Axes>"
      ]
     },
     "metadata": {
      "needs_background": "light"
     },
     "output_type": "display_data"
    }
   ],
   "source": [
    "plt.plot(history.history['loss'], label='train')\n",
    "plt.plot(history.history['val_loss'], label='validation')\n",
    "plt.ylim(0.65, 0.75)\n",
    "plt.title('Mean square error')\n",
    "plt.ylabel('loss')\n",
    "plt.xlabel('epochs')\n",
    "plt.legend(loc='upper right')"
   ]
  },
  {
   "cell_type": "code",
   "execution_count": null,
   "metadata": {},
   "outputs": [],
   "source": []
  }
 ],
 "metadata": {
  "kernelspec": {
   "display_name": "Python 3.6.8 64-bit ('.venv': virtualenv)",
   "language": "python",
   "name": "python36864bitvenvvirtualenvacaff34b38d84bbdb38c32a940f37472"
  },
  "language_info": {
   "codemirror_mode": {
    "name": "ipython",
    "version": 3
   },
   "file_extension": ".py",
   "mimetype": "text/x-python",
   "name": "python",
   "nbconvert_exporter": "python",
   "pygments_lexer": "ipython3",
   "version": "3.6.8"
  }
 },
 "nbformat": 4,
 "nbformat_minor": 4
}
